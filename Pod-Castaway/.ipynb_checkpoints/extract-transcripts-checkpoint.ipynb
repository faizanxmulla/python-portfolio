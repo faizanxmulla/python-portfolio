{
 "cells": [
  {
   "cell_type": "markdown",
   "metadata": {},
   "source": [
    "##### *Importing Libraries*"
   ]
  },
  {
   "cell_type": "code",
   "execution_count": 1,
   "metadata": {},
   "outputs": [],
   "source": [
    "import os\n",
    "import time\n",
    "import requests\n",
    "\n",
    "import regex as re\n",
    "from bs4 import BeautifulSoup"
   ]
  },
  {
   "cell_type": "code",
   "execution_count": 2,
   "metadata": {},
   "outputs": [],
   "source": [
    "rss_feed_urls = {'Lex Fridman': \"https://lexfridman.com/feed/podcast/\",\n",
    "                 'Tim Ferris' : \"https://rss.art19.com/tim-ferriss-show\",\n",
    "                 'Andrew Huberman': \"https://feeds.megaphone.fm/hubermanlab\",\n",
    "                 'Peter Attia' : \"https://peterattiamd.com/feed/\",}"
   ]
  },
  {
   "cell_type": "code",
   "execution_count": 3,
   "metadata": {},
   "outputs": [
    {
     "name": "stdout",
     "output_type": "stream",
     "text": [
      "('Lex Fridman', 'https://lexfridman.com/feed/podcast/')\n",
      "('Tim Ferris', 'https://rss.art19.com/tim-ferriss-show')\n",
      "('Andrew Huberman', 'https://feeds.megaphone.fm/hubermanlab')\n",
      "('Peter Attia', 'https://peterattiamd.com/feed/')\n"
     ]
    }
   ],
   "source": [
    "for val in rss_feed_urls.items():\n",
    "    print(val)"
   ]
  },
  {
   "cell_type": "markdown",
   "metadata": {},
   "source": [
    "##### *Podcast to download.*"
   ]
  },
  {
   "cell_type": "code",
   "execution_count": 4,
   "metadata": {},
   "outputs": [],
   "source": [
    "podcast = 'Lex Fridman'"
   ]
  },
  {
   "cell_type": "markdown",
   "metadata": {},
   "source": [
    "##### *Fetch the RSS feed content.*"
   ]
  },
  {
   "cell_type": "code",
   "execution_count": 5,
   "metadata": {},
   "outputs": [],
   "source": [
    "page = requests.get(rss_feed_urls[podcast])\n",
    "soup = BeautifulSoup(page.content, 'xml')"
   ]
  },
  {
   "cell_type": "markdown",
   "metadata": {},
   "source": [
    "##### *Find all podcast items in the RSS feed.*"
   ]
  },
  {
   "cell_type": "code",
   "execution_count": 6,
   "metadata": {},
   "outputs": [],
   "source": [
    "pod_items = soup.find_all('item')"
   ]
  },
  {
   "cell_type": "code",
   "execution_count": 7,
   "metadata": {},
   "outputs": [
    {
     "data": {
      "text/plain": [
       "<item>\n",
       "<title>#398 – Mark Zuckerberg: First Interview in the Metaverse</title>\n",
       "<link>https://lexfridman.com/mark-zuckerberg-3/?utm_source=rss&amp;utm_medium=rss&amp;utm_campaign=mark-zuckerberg-3</link>\n",
       "<pubDate>Thu, 28 Sep 2023 21:15:22 +0000</pubDate>\n",
       "<guid isPermaLink=\"false\">https://lexfridman.com/?p=5661</guid>\n",
       "<comments>https://lexfridman.com/mark-zuckerberg-3/#respond</comments>\n",
       "<wfw:commentRss>https://lexfridman.com/mark-zuckerberg-3/feed/</wfw:commentRss>\n",
       "<slash:comments>0</slash:comments>\n",
       "<category>ai</category>\n",
       "<description>Mark Zuckerberg is CEO of Meta. Please support this podcast by checking out our sponsors:\n",
       "- LMNT: https://drinkLMNT.com/lex to get free sample pack\n",
       "- InsideTracker: https://insidetracker.com/lex to get 20% off\n",
       "- Eight Sleep: https://www.eightsleep.com/lex to get special savings\n",
       "- AG1: https://drinkag1.com/lex to get 1 month supply of fish oil\n",
       "- NetSuite: http://netsuite.com/lex to get free product tour\n",
       "\n",
       "Transcript: https://lexfridman.com/mark-zuckerberg-3-transcript\n",
       "\n",
       "EPISODE LINKS:\n",
       "Mark's Facebook: https://facebook.com/zuck\n",
       "Mark's Instagram: https://instagram.com/zuck\n",
       "Mark's Threads: https://threads.net/@zuck\n",
       "Meta AI: https://ai.meta.com/\n",
       "Meta Quest: https://www.meta.com/quest/\n",
       "Meta Connect 2023: https://www.metaconnect.com\n",
       "\n",
       "PODCAST INFO:\n",
       "Podcast website: https://lexfridman.com/podcast\n",
       "Apple Podcasts: https://apple.co/2lwqZIr\n",
       "Spotify: https://spoti.fi/2nEwCF8\n",
       "RSS: https://lexfridman.com/feed/podcast/\n",
       "YouTube Full Episodes: https://youtube.com/lexfridman\n",
       "YouTube Clips: https://youtube.com/lexclips\n",
       "\n",
       "SUPPORT &amp; CONNECT:\n",
       "- Check out the sponsors above, it's the best way to support this podcast\n",
       "- Support on Patreon: https://www.patreon.com/lexfridman\n",
       "- Twitter: https://twitter.com/lexfridman\n",
       "- Instagram: https://www.instagram.com/lexfridman\n",
       "- LinkedIn: https://www.linkedin.com/in/lexfridman\n",
       "- Facebook: https://www.facebook.com/lexfridman\n",
       "- Medium: https://medium.com/@lexfridman\n",
       "\n",
       "OUTLINE:\n",
       "Here's the timestamps for the episode. On some podcast players you should be able to click the timestamp to jump to that time.\n",
       "(00:00) - Introduction\n",
       "(08:38) - Metaverse\n",
       "(23:01) - Quest 3\n",
       "(37:50) - Nature of reality\n",
       "(42:28) - AI in the Metaverse\n",
       "(59:26) - Large language models\n",
       "(1:05:23) - Future of humanity</description>\n",
       "<content:encoded>&lt;p&gt;Mark Zuckerberg is CEO of Meta. Please support this podcast by checking out our sponsors:&lt;br /&gt;\n",
       "&amp;#8211; &lt;b&gt;LMNT&lt;/b&gt;: &lt;a href=\"https://drinkLMNT.com/lex\"&gt;https://drinkLMNT.com/lex&lt;/a&gt; to get free sample pack&lt;br /&gt;\n",
       "&amp;#8211; &lt;b&gt;InsideTracker&lt;/b&gt;: &lt;a href=\"https://insidetracker.com/lex\"&gt;https://insidetracker.com/lex&lt;/a&gt; to get 20% off&lt;br /&gt;\n",
       "&amp;#8211; &lt;b&gt;Eight Sleep&lt;/b&gt;: &lt;a href=\"https://www.eightsleep.com/lex\"&gt;https://www.eightsleep.com/lex&lt;/a&gt; to get special savings&lt;br /&gt;\n",
       "&amp;#8211; &lt;b&gt;AG1&lt;/b&gt;: &lt;a href=\"https://drinkag1.com/lex\"&gt;https://drinkag1.com/lex&lt;/a&gt; to get 1 month supply of fish oil&lt;br /&gt;\n",
       "&amp;#8211; &lt;b&gt;NetSuite&lt;/b&gt;: &lt;a href=\"http://netsuite.com/lex\"&gt;http://netsuite.com/lex&lt;/a&gt; to get free product tour&lt;/p&gt;\n",
       "&lt;p&gt;Transcript: &lt;a href=\"https://lexfridman.com/mark-zuckerberg-3-transcript\"&gt;https://lexfridman.com/mark-zuckerberg-3-transcript&lt;/a&gt;&lt;/p&gt;\n",
       "&lt;p&gt;&lt;b&gt;EPISODE LINKS:&lt;/b&gt;&lt;br /&gt;\n",
       "Mark&amp;#8217;s Facebook: &lt;a href=\"https://facebook.com/zuck\"&gt;https://facebook.com/zuck&lt;/a&gt;&lt;br /&gt;\n",
       "Mark&amp;#8217;s Instagram: &lt;a href=\"https://instagram.com/zuck\"&gt;https://instagram.com/zuck&lt;/a&gt;&lt;br /&gt;\n",
       "Mark&amp;#8217;s Threads: &lt;a href=\"https://threads.net/@zuck\"&gt;https://threads.net/@zuck&lt;/a&gt;&lt;br /&gt;\n",
       "Meta AI: &lt;a href=\"https://ai.meta.com/\"&gt;https://ai.meta.com/&lt;/a&gt;&lt;br /&gt;\n",
       "Meta Quest: &lt;a href=\"https://www.meta.com/quest/\"&gt;https://www.meta.com/quest/&lt;/a&gt;&lt;br /&gt;\n",
       "Meta Connect 2023: &lt;a href=\"https://www.metaconnect.com\"&gt;https://www.metaconnect.com&lt;/a&gt;&lt;/p&gt;\n",
       "&lt;p&gt;&lt;b&gt;PODCAST INFO:&lt;/b&gt;&lt;br /&gt;\n",
       "Podcast website: &lt;a href=\"https://lexfridman.com/podcast\"&gt;https://lexfridman.com/podcast&lt;/a&gt;&lt;br /&gt;\n",
       "Apple Podcasts: &lt;a href=\"https://apple.co/2lwqZIr\"&gt;https://apple.co/2lwqZIr&lt;/a&gt;&lt;br /&gt;\n",
       "Spotify: &lt;a href=\"https://spoti.fi/2nEwCF8\"&gt;https://spoti.fi/2nEwCF8&lt;/a&gt;&lt;br /&gt;\n",
       "RSS: &lt;a href=\"https://lexfridman.com/feed/podcast/\"&gt;https://lexfridman.com/feed/podcast/&lt;/a&gt;&lt;br /&gt;\n",
       "YouTube Full Episodes: &lt;a href=\"https://youtube.com/lexfridman\"&gt;https://youtube.com/lexfridman&lt;/a&gt;&lt;br /&gt;\n",
       "YouTube Clips: &lt;a href=\"https://youtube.com/lexclips\"&gt;https://youtube.com/lexclips&lt;/a&gt;&lt;/p&gt;\n",
       "&lt;p&gt;&lt;b&gt;SUPPORT &amp;amp; CONNECT:&lt;/b&gt;&lt;br /&gt;\n",
       "&amp;#8211; Check out the sponsors above, it&amp;#8217;s the best way to support this podcast&lt;br /&gt;\n",
       "&amp;#8211; Support on Patreon: &lt;a href=\"https://www.patreon.com/lexfridman\"&gt;https://www.patreon.com/lexfridman&lt;/a&gt;&lt;br /&gt;\n",
       "&amp;#8211; Twitter: &lt;a href=\"https://twitter.com/lexfridman\"&gt;https://twitter.com/lexfridman&lt;/a&gt;&lt;br /&gt;\n",
       "&amp;#8211; Instagram: &lt;a href=\"https://www.instagram.com/lexfridman\"&gt;https://www.instagram.com/lexfridman&lt;/a&gt;&lt;br /&gt;\n",
       "&amp;#8211; LinkedIn: &lt;a href=\"https://www.linkedin.com/in/lexfridman\"&gt;https://www.linkedin.com/in/lexfridman&lt;/a&gt;&lt;br /&gt;\n",
       "&amp;#8211; Facebook: &lt;a href=\"https://www.facebook.com/lexfridman\"&gt;https://www.facebook.com/lexfridman&lt;/a&gt;&lt;br /&gt;\n",
       "&amp;#8211; Medium: &lt;a href=\"https://medium.com/@lexfridman\"&gt;https://medium.com/@lexfridman&lt;/a&gt;&lt;/p&gt;\n",
       "&lt;p&gt;&lt;b&gt;OUTLINE:&lt;/b&gt;&lt;br /&gt;\n",
       "Here&amp;#8217;s the timestamps for the episode. On some podcast players you should be able to click the timestamp to jump to that time.&lt;br /&gt;\n",
       "(00:00) &amp;#8211; Introduction&lt;br /&gt;\n",
       "(08:38) &amp;#8211; Metaverse&lt;br /&gt;\n",
       "(23:01) &amp;#8211; Quest 3&lt;br /&gt;\n",
       "(37:50) &amp;#8211; Nature of reality&lt;br /&gt;\n",
       "(42:28) &amp;#8211; AI in the Metaverse&lt;br /&gt;\n",
       "(59:26) &amp;#8211; Large language models&lt;br /&gt;\n",
       "(1:05:23) &amp;#8211; Future of humanity&lt;/p&gt;\n",
       "</content:encoded>\n",
       "<enclosure length=\"55618983\" type=\"audio/mpeg\" url=\"https://media.blubrry.com/takeituneasy/content.blubrry.com/takeituneasy/lex_ai_mark_zuckerberg_3.mp3\"/>\n",
       "<itunes:subtitle>Mark Zuckerberg is CEO of Meta. Please support this podcast by checking out our sponsors: - LMNT: https://drinkLMNT.com/lex to get free sample pack - InsideTracker: https://insidetracker.com/lex to get 20% off - Eight Sleep: https://www.eightsleep.</itunes:subtitle>\n",
       "<itunes:summary>Mark Zuckerberg is CEO of Meta. Please support this podcast by checking out our sponsors:&lt;br /&gt;\n",
       "- LMNT: https://drinkLMNT.com/lex to get free sample pack&lt;br /&gt;\n",
       "- InsideTracker: https://insidetracker.com/lex to get 20% off&lt;br /&gt;\n",
       "- Eight Sleep: https://www.eightsleep.com/lex to get special savings&lt;br /&gt;\n",
       "- AG1: https://drinkag1.com/lex to get 1 month supply of fish oil&lt;br /&gt;\n",
       "- NetSuite: http://netsuite.com/lex to get free product tour&lt;br /&gt;\n",
       "&lt;br /&gt;\n",
       "Transcript: https://lexfridman.com/mark-zuckerberg-3-transcript&lt;br /&gt;\n",
       "&lt;br /&gt;\n",
       "EPISODE LINKS:&lt;br /&gt;\n",
       "Mark's Facebook: https://facebook.com/zuck&lt;br /&gt;\n",
       "Mark's Instagram: https://instagram.com/zuck&lt;br /&gt;\n",
       "Mark's Threads: https://threads.net/@zuck&lt;br /&gt;\n",
       "Meta AI: https://ai.meta.com/&lt;br /&gt;\n",
       "Meta Quest: https://www.meta.com/quest/&lt;br /&gt;\n",
       "Meta Connect 2023: https://www.metaconnect.com&lt;br /&gt;\n",
       "&lt;br /&gt;\n",
       "PODCAST INFO:&lt;br /&gt;\n",
       "Podcast website: https://lexfridman.com/podcast&lt;br /&gt;\n",
       "Apple Podcasts: https://apple.co/2lwqZIr&lt;br /&gt;\n",
       "Spotify: https://spoti.fi/2nEwCF8&lt;br /&gt;\n",
       "RSS: https://lexfridman.com/feed/podcast/&lt;br /&gt;\n",
       "YouTube Full Episodes: https://youtube.com/lexfridman&lt;br /&gt;\n",
       "YouTube Clips: https://youtube.com/lexclips&lt;br /&gt;\n",
       "&lt;br /&gt;\n",
       "SUPPORT &amp; CONNECT:&lt;br /&gt;\n",
       "- Check out the sponsors above, it's the best way to support this podcast&lt;br /&gt;\n",
       "- Support on Patreon: https://www.patreon.com/lexfridman&lt;br /&gt;\n",
       "- Twitter: https://twitter.com/lexfridman&lt;br /&gt;\n",
       "- Instagram: https://www.instagram.com/lexfridman&lt;br /&gt;\n",
       "- LinkedIn: https://www.linkedin.com/in/lexfridman&lt;br /&gt;\n",
       "- Facebook: https://www.facebook.com/lexfridman&lt;br /&gt;\n",
       "- Medium: https://medium.com/@lexfridman&lt;br /&gt;\n",
       "&lt;br /&gt;\n",
       "OUTLINE:&lt;br /&gt;\n",
       "Here's the timestamps for the episode. On some podcast players you should be able to click the timestamp to jump to that time.&lt;br /&gt;\n",
       "(00:00) - Introduction&lt;br /&gt;\n",
       "(08:38) - Metaverse&lt;br /&gt;\n",
       "(23:01) - Quest 3&lt;br /&gt;\n",
       "(37:50) - Nature of reality&lt;br /&gt;\n",
       "(42:28) - AI in the Metaverse&lt;br /&gt;\n",
       "(59:26) - Large language models&lt;br /&gt;\n",
       "(1:05:23) - Future of humanity</itunes:summary>\n",
       "<itunes:author>Lex Fridman</itunes:author>\n",
       "<itunes:image href=\"https://lexfridman.com/wordpress/wp-content/uploads/powerpress/artwork_3000-230.png\"/>\n",
       "<itunes:episodeType>full</itunes:episodeType>\n",
       "<itunes:explicit>false</itunes:explicit>\n",
       "<itunes:duration>1:12:04</itunes:duration>\n",
       "</item>"
      ]
     },
     "execution_count": 7,
     "metadata": {},
     "output_type": "execute_result"
    }
   ],
   "source": [
    "pod_items[0]"
   ]
  },
  {
   "cell_type": "code",
   "execution_count": 8,
   "metadata": {},
   "outputs": [
    {
     "data": {
      "text/plain": [
       "<description>Mark Zuckerberg is CEO of Meta. Please support this podcast by checking out our sponsors:\n",
       "- LMNT: https://drinkLMNT.com/lex to get free sample pack\n",
       "- InsideTracker: https://insidetracker.com/lex to get 20% off\n",
       "- Eight Sleep: https://www.eightsleep.com/lex to get special savings\n",
       "- AG1: https://drinkag1.com/lex to get 1 month supply of fish oil\n",
       "- NetSuite: http://netsuite.com/lex to get free product tour\n",
       "\n",
       "Transcript: https://lexfridman.com/mark-zuckerberg-3-transcript\n",
       "\n",
       "EPISODE LINKS:\n",
       "Mark's Facebook: https://facebook.com/zuck\n",
       "Mark's Instagram: https://instagram.com/zuck\n",
       "Mark's Threads: https://threads.net/@zuck\n",
       "Meta AI: https://ai.meta.com/\n",
       "Meta Quest: https://www.meta.com/quest/\n",
       "Meta Connect 2023: https://www.metaconnect.com\n",
       "\n",
       "PODCAST INFO:\n",
       "Podcast website: https://lexfridman.com/podcast\n",
       "Apple Podcasts: https://apple.co/2lwqZIr\n",
       "Spotify: https://spoti.fi/2nEwCF8\n",
       "RSS: https://lexfridman.com/feed/podcast/\n",
       "YouTube Full Episodes: https://youtube.com/lexfridman\n",
       "YouTube Clips: https://youtube.com/lexclips\n",
       "\n",
       "SUPPORT &amp; CONNECT:\n",
       "- Check out the sponsors above, it's the best way to support this podcast\n",
       "- Support on Patreon: https://www.patreon.com/lexfridman\n",
       "- Twitter: https://twitter.com/lexfridman\n",
       "- Instagram: https://www.instagram.com/lexfridman\n",
       "- LinkedIn: https://www.linkedin.com/in/lexfridman\n",
       "- Facebook: https://www.facebook.com/lexfridman\n",
       "- Medium: https://medium.com/@lexfridman\n",
       "\n",
       "OUTLINE:\n",
       "Here's the timestamps for the episode. On some podcast players you should be able to click the timestamp to jump to that time.\n",
       "(00:00) - Introduction\n",
       "(08:38) - Metaverse\n",
       "(23:01) - Quest 3\n",
       "(37:50) - Nature of reality\n",
       "(42:28) - AI in the Metaverse\n",
       "(59:26) - Large language models\n",
       "(1:05:23) - Future of humanity</description>"
      ]
     },
     "execution_count": 8,
     "metadata": {},
     "output_type": "execute_result"
    }
   ],
   "source": [
    "pod_items[0].find('description')"
   ]
  },
  {
   "cell_type": "markdown",
   "metadata": {},
   "source": [
    "##### *Create a folder to store downloaded **MP3** files.*"
   ]
  },
  {
   "cell_type": "code",
   "execution_count": 9,
   "metadata": {},
   "outputs": [],
   "source": [
    "download_folder = './downloads'\n",
    "os.makedirs(download_folder, exist_ok=True)"
   ]
  },
  {
   "cell_type": "markdown",
   "metadata": {},
   "source": [
    "#### **Adding filters to find and dowload multiple specific podcasts.** "
   ]
  },
  {
   "cell_type": "markdown",
   "metadata": {},
   "source": [
    "##### *Counter for downloaded podcasts.*"
   ]
  },
  {
   "cell_type": "code",
   "execution_count": 10,
   "metadata": {},
   "outputs": [],
   "source": [
    "count = 0"
   ]
  },
  {
   "cell_type": "code",
   "execution_count": 11,
   "metadata": {},
   "outputs": [],
   "source": [
    "start_time = time.time()"
   ]
  },
  {
   "cell_type": "markdown",
   "metadata": {},
   "source": [
    "##### *Loop through podcast items and download MP3 files.*"
   ]
  },
  {
   "cell_type": "code",
   "execution_count": 12,
   "metadata": {},
   "outputs": [
    {
     "name": "stdout",
     "output_type": "stream",
     "text": [
      "Title :  #398 – Mark Zuckerberg: First Interview in the Metaverse\n",
      "MP3 url :  https://media.blubrry.com/takeituneasy/content.blubrry.com/takeituneasy/lex_ai_mark_zuckerberg_3.mp3\n",
      "Downloading ...\n",
      "Download Complete !!\n",
      "\n",
      "\n"
     ]
    }
   ],
   "source": [
    "for pod in pod_items:\n",
    "    if count == 1: \n",
    "        break\n",
    "\n",
    "    title = pod.find('title').text \n",
    "    description = pod.find('description').text\n",
    "    mp3_url = pod.find('enclosure')['url']\n",
    "\n",
    "    # Sanitize the title to remove invalid characters.\n",
    "    sanitized_title = re.sub(r'[\\\\/:*?\"<>|]', '', title)\n",
    "\n",
    "    if re.search(r'zuckerberg', description, re.I) and re.search(r'\\.mp3', mp3_url, re.I):\n",
    "        print(f'Title : ', title)\n",
    "        print(f'MP3 url : ', mp3_url)\n",
    "        print(f'Downloading ...')\n",
    "\n",
    "        try: \n",
    "            redirect_url = requests.get(mp3_url).url\n",
    "            mp3_file = requests.get(redirect_url)\n",
    "\n",
    "            if mp3_file.status_code == 200:\n",
    "                with open(os.path.join(download_folder, f'{sanitized_title}.mp3'), 'wb') as f: \n",
    "                    f.write(mp3_file.content)\n",
    "                \n",
    "                print('Download Complete !!\\n\\n')\n",
    "                count += 1\n",
    "\n",
    "            else: \n",
    "                print(f'Failed to download: {mp3_url} (Status code: {mp3_file.status_code})\\n')\n",
    "\n",
    "\n",
    "        except Exception as e:\n",
    "            print(f'Error downloading: {mp3_url}')\n",
    "            print(e)\n",
    "            print('\\n')"
   ]
  },
  {
   "cell_type": "code",
   "execution_count": 13,
   "metadata": {},
   "outputs": [],
   "source": [
    "end_time = time.time()\n",
    "elapsed_time = end_time - start_time"
   ]
  },
  {
   "cell_type": "code",
   "execution_count": 14,
   "metadata": {},
   "outputs": [
    {
     "name": "stdout",
     "output_type": "stream",
     "text": [
      "Downloaded a total of : 1 MP3 file / files.\n",
      "Total time taken was 57.79 seconds.\n"
     ]
    }
   ],
   "source": [
    "print(f\"Downloaded a total of : {count} MP3 file / files.\")\n",
    "print(f\"Total time taken was {elapsed_time:.2f} seconds.\")"
   ]
  },
  {
   "cell_type": "markdown",
   "metadata": {},
   "source": [
    "#### **Trabscribing Podcasts.**"
   ]
  },
  {
   "cell_type": "code",
   "execution_count": 15,
   "metadata": {},
   "outputs": [],
   "source": [
    "api_key = os.environ['ASSEMBLY_AI_KEY']\n",
    "headers = {'authorization': os.environ['ASSEMBLY_AI_KEY']}"
   ]
  },
  {
   "cell_type": "code",
   "execution_count": 18,
   "metadata": {},
   "outputs": [
    {
     "name": "stdout",
     "output_type": "stream",
     "text": [
      "['#398 – Mark Zuckerberg First Interview in the Metaverse.mp3']\n"
     ]
    }
   ],
   "source": [
    "files = \"./downloads\"\n",
    "file_names = os.listdir(files)\n",
    "\n",
    "print(file_names)"
   ]
  },
  {
   "cell_type": "code",
   "execution_count": 20,
   "metadata": {},
   "outputs": [],
   "source": [
    "def read_file(filename, chunk_size=5242880): \n",
    "    with open(filename, 'rb') as _file:\n",
    "        while True: \n",
    "            data = _file.read(chunk_size)\n",
    "            if not data: \n",
    "                break \n",
    "            yield data "
   ]
  },
  {
   "cell_type": "code",
   "execution_count": 22,
   "metadata": {},
   "outputs": [
    {
     "name": "stdout",
     "output_type": "stream",
     "text": [
      "#398 – Mark Zuckerberg First Interview in the Metaverse.mp3\n",
      "{'upload_url': 'https://cdn.assemblyai.com/upload/285fe7c6-cfb9-4122-9eba-463d55301698'}\n"
     ]
    }
   ],
   "source": [
    "for file in file_names:\n",
    "    file_path = f\"./downloads/{file}\"\n",
    "    print(\"Uploading ...\", file)\n",
    "\n",
    "    response = requests.post('https://api.assemblyai.com/v2/upload', headers=headers, data=read_file(file_path))\n",
    "\n",
    "    print(response.json())\n",
    "    print('Upload Complete !!')"
   ]
  },
  {
   "cell_type": "code",
   "execution_count": null,
   "metadata": {},
   "outputs": [],
   "source": [
    "count=0\n",
    "output_ids = []\n",
    "for url in urls:\n",
    "    print(\"Transcription #\", count)\n",
    "    endpoint = \"https://api.assemblyai.com/v2/transcript\"\n",
    "    \n",
    "    json = {\n",
    "        \"audio_url\": url['upload_url'],\n",
    "        \"audio_start_from\": 300000,\n",
    "        \"audio_end_at\": 600000,\n",
    "    }\n",
    "\n",
    "    headers = {\n",
    "        \"authorization\": os.environ['ASSEMBLY_AI_KEY'],\n",
    "        \"content-type\": \"application/json\"\n",
    "    }\n",
    "    response = requests.post(endpoint, json=json, headers=headers)\n",
    "    print(response)\n",
    "    output_ids.append(response.json()['id'])\n",
    "    count+=1"
   ]
  }
 ],
 "metadata": {
  "kernelspec": {
   "display_name": "Python 3 (ipykernel)",
   "language": "python",
   "name": "python3"
  },
  "language_info": {
   "codemirror_mode": {
    "name": "ipython",
    "version": 3
   },
   "file_extension": ".py",
   "mimetype": "text/x-python",
   "name": "python",
   "nbconvert_exporter": "python",
   "pygments_lexer": "ipython3",
   "version": "3.9.7"
  }
 },
 "nbformat": 4,
 "nbformat_minor": 2
}
