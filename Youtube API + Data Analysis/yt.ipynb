{
 "cells": [
  {
   "cell_type": "markdown",
   "metadata": {},
   "source": [
    "#### **Importing Libraries**"
   ]
  },
  {
   "cell_type": "code",
   "execution_count": 1,
   "metadata": {},
   "outputs": [],
   "source": [
    "import os\n",
    "import pandas as pd\n",
    "import seaborn as sns\n",
    "\n",
    "from googleapiclient.discovery import build"
   ]
  },
  {
   "cell_type": "markdown",
   "metadata": {},
   "source": [
    "#### **Setting up YouTube API.**"
   ]
  },
  {
   "cell_type": "code",
   "execution_count": 2,
   "metadata": {},
   "outputs": [],
   "source": [
    "api_service_name = \"youtube\"\n",
    "api_version = \"v3\"\n",
    "\n",
    "yt_api_key = os.environ[\"YT_API_KEY\"]"
   ]
  },
  {
   "cell_type": "markdown",
   "metadata": {},
   "source": [
    "#### **Getting Channel ID's.**"
   ]
  },
  {
   "cell_type": "code",
   "execution_count": 3,
   "metadata": {},
   "outputs": [],
   "source": [
    "channel_ids = [\n",
    "    \"UCX6OQ3DkcsbYNE6H8uQQuVA\",\n",
    "    \"UC59ZRYCHev_IqjUhremZ8Tg\",\n",
    "    \"UCvgfXK4nTYKudb0rFR6noLA\",\n",
    "    \"UCc0YbtMkRdhcqwhu3Oad-lw\",\n",
    "]"
   ]
  },
  {
   "cell_type": "markdown",
   "metadata": {},
   "source": [
    "#### **Building YouTube API Service.**"
   ]
  },
  {
   "cell_type": "code",
   "execution_count": 4,
   "metadata": {},
   "outputs": [],
   "source": [
    "youtube = build(api_service_name, api_version, developerKey=yt_api_key)  "
   ]
  },
  {
   "cell_type": "markdown",
   "metadata": {},
   "source": [
    "#### **Function to obtain channel statistics.**"
   ]
  },
  {
   "cell_type": "code",
   "execution_count": 5,
   "metadata": {},
   "outputs": [],
   "source": [
    "def get_channel_statistics(youtube, channel_ids):\n",
    "    data = []\n",
    "\n",
    "    request = youtube.channels().list(\n",
    "        part=\"snippet,contentDetails,statistics\", id=\",\".join(channel_ids)\n",
    "    )\n",
    "\n",
    "    response = request.execute()\n",
    "\n",
    "    for i in range(len(response[\"items\"])):\n",
    "        info = dict(\n",
    "            channel_name=response[\"items\"][i][\"snippet\"][\"title\"],\n",
    "            subscribers=response[\"items\"][i][\"statistics\"][\"subscriberCount\"],\n",
    "            videos=response[\"items\"][i][\"statistics\"][\"videoCount\"],\n",
    "            views=response[\"items\"][i][\"statistics\"][\"viewCount\"],\n",
    "        )\n",
    "\n",
    "        data.append(info)\n",
    "\n",
    "    return data"
   ]
  },
  {
   "cell_type": "code",
   "execution_count": 6,
   "metadata": {},
   "outputs": [
    {
     "data": {
      "text/plain": [
       "[{'channel_name': 'UFC',\n",
       "  'subscribers': '17500000',\n",
       "  'videos': '15926',\n",
       "  'views': '7784942599'},\n",
       " {'channel_name': 'MrBeast',\n",
       "  'subscribers': '233000000',\n",
       "  'videos': '774',\n",
       "  'views': '41694966373'},\n",
       " {'channel_name': 'Breaking Bad & Better Call Saul',\n",
       "  'subscribers': '746000',\n",
       "  'videos': '772',\n",
       "  'views': '593154876'},\n",
       " {'channel_name': 'Harry Mack',\n",
       "  'subscribers': '2640000',\n",
       "  'videos': '498',\n",
       "  'views': '231600882'}]"
      ]
     },
     "execution_count": 6,
     "metadata": {},
     "output_type": "execute_result"
    }
   ],
   "source": [
    "get_channel_statistics(youtube, channel_ids)"
   ]
  }
 ],
 "metadata": {
  "kernelspec": {
   "display_name": "base",
   "language": "python",
   "name": "python3"
  },
  "language_info": {
   "codemirror_mode": {
    "name": "ipython",
    "version": 3
   },
   "file_extension": ".py",
   "mimetype": "text/x-python",
   "name": "python",
   "nbconvert_exporter": "python",
   "pygments_lexer": "ipython3",
   "version": "3.9.7"
  }
 },
 "nbformat": 4,
 "nbformat_minor": 2
}
