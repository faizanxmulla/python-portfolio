{
 "cells": [
  {
   "cell_type": "markdown",
   "metadata": {},
   "source": [
    "##### *Importing Libraries*"
   ]
  },
  {
   "cell_type": "code",
   "execution_count": 2,
   "metadata": {},
   "outputs": [],
   "source": [
    "import os\n",
    "import time\n",
    "import requests\n",
    "\n",
    "import regex as re\n",
    "from bs4 import BeautifulSoup"
   ]
  },
  {
   "cell_type": "code",
   "execution_count": 3,
   "metadata": {},
   "outputs": [],
   "source": [
    "rss_feed_urls = {'Lex Fridman': \"https://lexfridman.com/feed/podcast/\",\n",
    "                 'Tim Ferris' : \"https://rss.art19.com/tim-ferriss-show\",\n",
    "                 'Andrew Huberman': \"https://feeds.megaphone.fm/hubermanlab\",\n",
    "                 'Peter Attia' : \"https://peterattiamd.com/feed/\",}"
   ]
  },
  {
   "cell_type": "code",
   "execution_count": 4,
   "metadata": {},
   "outputs": [
    {
     "name": "stdout",
     "output_type": "stream",
     "text": [
      "('Lex Fridman', 'https://lexfridman.com/feed/podcast/')\n",
      "('Tim Ferris', 'https://rss.art19.com/tim-ferriss-show')\n",
      "('Andrew Huberman', 'https://feeds.megaphone.fm/hubermanlab')\n",
      "('Peter Attia', 'https://peterattiamd.com/feed/')\n"
     ]
    }
   ],
   "source": [
    "for val in rss_feed_urls.items():\n",
    "    print(val)"
   ]
  },
  {
   "cell_type": "markdown",
   "metadata": {},
   "source": [
    "##### *Podcast to download.*"
   ]
  },
  {
   "cell_type": "code",
   "execution_count": 5,
   "metadata": {},
   "outputs": [],
   "source": [
    "podcast = 'Lex Fridman'"
   ]
  },
  {
   "cell_type": "markdown",
   "metadata": {},
   "source": [
    "##### *Fetch the RSS feed content.*"
   ]
  },
  {
   "cell_type": "code",
   "execution_count": 6,
   "metadata": {},
   "outputs": [],
   "source": [
    "page = requests.get(rss_feed_urls[podcast])\n",
    "soup = BeautifulSoup(page.content, 'xml')"
   ]
  },
  {
   "cell_type": "markdown",
   "metadata": {},
   "source": [
    "##### *Find all podcast items in the RSS feed.*"
   ]
  },
  {
   "cell_type": "code",
   "execution_count": 7,
   "metadata": {},
   "outputs": [],
   "source": [
    "pod_items = soup.find_all('item')"
   ]
  },
  {
   "cell_type": "code",
   "execution_count": null,
   "metadata": {},
   "outputs": [],
   "source": []
  },
  {
   "cell_type": "code",
   "execution_count": 9,
   "metadata": {},
   "outputs": [
    {
     "data": {
      "text/plain": [
       "<item>\n",
       "<title>#397 – Greg Lukianoff: Cancel Culture, Deplatforming, Censorship &amp; Free Speech</title>\n",
       "<link>https://lexfridman.com/greg-lukianoff/?utm_source=rss&amp;utm_medium=rss&amp;utm_campaign=greg-lukianoff</link>\n",
       "<pubDate>Mon, 25 Sep 2023 01:12:01 +0000</pubDate>\n",
       "<guid isPermaLink=\"false\">https://lexfridman.com/?p=5654</guid>\n",
       "<comments>https://lexfridman.com/greg-lukianoff/#respond</comments>\n",
       "<wfw:commentRss>https://lexfridman.com/greg-lukianoff/feed/</wfw:commentRss>\n",
       "<slash:comments>0</slash:comments>\n",
       "<category>ai</category>\n",
       "<description>Greg Lukianoff is a free speech advocate, first-amendment attorney, president of FIRE - Foundation for Individual Rights and Expression, and co-author of The Coddling of the American Mind and a new book The Canceling of the American Mind. Please support this podcast by checking out our sponsors:\n",
       "- Policygenius: https://www.policygenius.com/\n",
       "- Babbel: https://babbel.com/lexpod and use code Lexpod to get 55% off\n",
       "- BetterHelp: https://betterhelp.com/lex to get 10% off\n",
       "- InsideTracker: https://insidetracker.com/lex to get 20% off\n",
       "- ExpressVPN: https://expressvpn.com/lexpod to get 3 months free\n",
       "\n",
       "Transcript: https://lexfridman.com/greg-lukianoff-transcript\n",
       "\n",
       "EPISODE LINKS:\n",
       "Greg's Twitter: https://twitter.com/glukianoff\n",
       "Greg's Instagram: https://instagram.com/glukianoff\n",
       "FIRE: https://thefire.org/\n",
       "FIRE on Twitter: https://twitter.com/TheFIREorg\n",
       "*** Greg's Books ***\n",
       "The Canceling of the American Mind: https://amzn.to/464yasg\n",
       "The Coddling of the American Mind: https://amzn.to/3EL48hj\n",
       "Freedom from Speech: https://amzn.to/3rhrdVN\n",
       "Unlearning Liberty: https://amzn.to/3rlFnoN\n",
       "*** Books Mentioned ***\n",
       "The Closing of the American Mind: https://amzn.to/4638KuX\n",
       "The Origins of Political Order: https://amzn.to/464zkE8\n",
       "So You've Been Publicly Shamed: https://amzn.to/48nm1Af\n",
       "Racial Paranoia: https://amzn.to/3RzyY3U\n",
       "Why Buddhism Is True: https://amzn.to/3t4R5Vk\n",
       "Speaking Freely: https://amzn.to/3Zr64oG\n",
       "\n",
       "PODCAST INFO:\n",
       "Podcast website: https://lexfridman.com/podcast\n",
       "Apple Podcasts: https://apple.co/2lwqZIr\n",
       "Spotify: https://spoti.fi/2nEwCF8\n",
       "RSS: https://lexfridman.com/feed/podcast/\n",
       "YouTube Full Episodes: https://youtube.com/lexfridman\n",
       "YouTube Clips: https://youtube.com/lexclips\n",
       "\n",
       "SUPPORT &amp; CONNECT:\n",
       "- Check out the sponsors above, it's the best way to support this podcast\n",
       "- Support on Patreon: https://www.patreon.com/lexfridman\n",
       "- Twitter: https://twitter.com/lexfridman\n",
       "- Instagram: https://www.instagram.com/lexfridman\n",
       "- LinkedIn: https://www.linkedin.com/in/lexfridman\n",
       "- Facebook: https://www.facebook.com/lexfridman\n",
       "- Medium: https://medium.com/@lexfridman\n",
       "\n",
       "OUTLINE:\n",
       "Here's the timestamps for the episode. On some podcast players you should be able to click the timestamp to jump to that time.\n",
       "(00:00) - Introduction\n",
       "(10:49) - Cancel culture &amp; freedom of speech\n",
       "(25:21) - Left-wing vs right-wing cancel culture\n",
       "(34:06) - Religion\n",
       "(36:46) - College rankings by freedom of speech\n",
       "(42:54) - Deplatforming\n",
       "(57:29) - Whataboutism\n",
       "(1:02:32) - Steelmanning\n",
       "(1:10:08) - How the left argues\n",
       "(1:20:48) - Diversity, equity, and inclusion\n",
       "(1:32:39) - Why colleges lean left\n",
       "(1:40:17) - How the right argues\n",
       "(1:44:52) - Hate speech\n",
       "(1:53:39) - Platforming\n",
       "(2:03:10) - Social media\n",
       "(2:24:17) - Depression\n",
       "(2:35:48) - Hope</description>\n",
       "<content:encoded>&lt;p&gt;Greg Lukianoff is a free speech advocate, first-amendment attorney, president of FIRE &amp;#8211; Foundation for Individual Rights and Expression, and co-author of The Coddling of the American Mind and a new book The Canceling of the American Mind. Please support this podcast by checking out our sponsors:&lt;br /&gt;\n",
       "&amp;#8211; &lt;b&gt;Policygenius&lt;/b&gt;: &lt;a href=\"https://www.policygenius.com/\"&gt;https://www.policygenius.com/&lt;/a&gt;&lt;br /&gt;\n",
       "&amp;#8211; &lt;b&gt;Babbel&lt;/b&gt;: &lt;a href=\"https://babbel.com/lexpod\"&gt;https://babbel.com/lexpod&lt;/a&gt; and use code Lexpod to get 55% off&lt;br /&gt;\n",
       "&amp;#8211; &lt;b&gt;BetterHelp&lt;/b&gt;: &lt;a href=\"https://betterhelp.com/lex\"&gt;https://betterhelp.com/lex&lt;/a&gt; to get 10% off&lt;br /&gt;\n",
       "&amp;#8211; &lt;b&gt;InsideTracker&lt;/b&gt;: &lt;a href=\"https://insidetracker.com/lex\"&gt;https://insidetracker.com/lex&lt;/a&gt; to get 20% off&lt;br /&gt;\n",
       "&amp;#8211; &lt;b&gt;ExpressVPN&lt;/b&gt;: &lt;a href=\"https://expressvpn.com/lexpod\"&gt;https://expressvpn.com/lexpod&lt;/a&gt; to get 3 months free&lt;/p&gt;\n",
       "&lt;p&gt;Transcript: &lt;a href=\"https://lexfridman.com/greg-lukianoff-transcript\"&gt;https://lexfridman.com/greg-lukianoff-transcript&lt;/a&gt;&lt;/p&gt;\n",
       "&lt;p&gt;&lt;b&gt;EPISODE LINKS:&lt;/b&gt;&lt;br /&gt;\n",
       "Greg&amp;#8217;s Twitter: &lt;a href=\"https://twitter.com/glukianoff\"&gt;https://twitter.com/glukianoff&lt;/a&gt;&lt;br /&gt;\n",
       "Greg&amp;#8217;s Instagram: &lt;a href=\"https://instagram.com/glukianoff\"&gt;https://instagram.com/glukianoff&lt;/a&gt;&lt;br /&gt;\n",
       "FIRE: &lt;a href=\"https://thefire.org/\"&gt;https://thefire.org/&lt;/a&gt;&lt;br /&gt;\n",
       "FIRE on Twitter: &lt;a href=\"https://twitter.com/TheFIREorg\"&gt;https://twitter.com/TheFIREorg&lt;/a&gt;&lt;br /&gt;\n",
       "*** Greg&amp;#8217;s Books ***&lt;br /&gt;\n",
       "The Canceling of the American Mind: &lt;a href=\"https://amzn.to/464yasg\"&gt;https://amzn.to/464yasg&lt;/a&gt;&lt;br /&gt;\n",
       "The Coddling of the American Mind: &lt;a href=\"https://amzn.to/3EL48hj\"&gt;https://amzn.to/3EL48hj&lt;/a&gt;&lt;br /&gt;\n",
       "Freedom from Speech: &lt;a href=\"https://amzn.to/3rhrdVN\"&gt;https://amzn.to/3rhrdVN&lt;/a&gt;&lt;br /&gt;\n",
       "Unlearning Liberty: &lt;a href=\"https://amzn.to/3rlFnoN\"&gt;https://amzn.to/3rlFnoN&lt;/a&gt;&lt;br /&gt;\n",
       "*** Books Mentioned ***&lt;br /&gt;\n",
       "The Closing of the American Mind: &lt;a href=\"https://amzn.to/4638KuX\"&gt;https://amzn.to/4638KuX&lt;/a&gt;&lt;br /&gt;\n",
       "The Origins of Political Order: &lt;a href=\"https://amzn.to/464zkE8\"&gt;https://amzn.to/464zkE8&lt;/a&gt;&lt;br /&gt;\n",
       "So You&amp;#8217;ve Been Publicly Shamed: &lt;a href=\"https://amzn.to/48nm1Af\"&gt;https://amzn.to/48nm1Af&lt;/a&gt;&lt;br /&gt;\n",
       "Racial Paranoia: &lt;a href=\"https://amzn.to/3RzyY3U\"&gt;https://amzn.to/3RzyY3U&lt;/a&gt;&lt;br /&gt;\n",
       "Why Buddhism Is True: &lt;a href=\"https://amzn.to/3t4R5Vk\"&gt;https://amzn.to/3t4R5Vk&lt;/a&gt;&lt;br /&gt;\n",
       "Speaking Freely: &lt;a href=\"https://amzn.to/3Zr64oG\"&gt;https://amzn.to/3Zr64oG&lt;/a&gt;&lt;/p&gt;\n",
       "&lt;p&gt;&lt;b&gt;PODCAST INFO:&lt;/b&gt;&lt;br /&gt;\n",
       "Podcast website: &lt;a href=\"https://lexfridman.com/podcast\"&gt;https://lexfridman.com/podcast&lt;/a&gt;&lt;br /&gt;\n",
       "Apple Podcasts: &lt;a href=\"https://apple.co/2lwqZIr\"&gt;https://apple.co/2lwqZIr&lt;/a&gt;&lt;br /&gt;\n",
       "Spotify: &lt;a href=\"https://spoti.fi/2nEwCF8\"&gt;https://spoti.fi/2nEwCF8&lt;/a&gt;&lt;br /&gt;\n",
       "RSS: &lt;a href=\"https://lexfridman.com/feed/podcast/\"&gt;https://lexfridman.com/feed/podcast/&lt;/a&gt;&lt;br /&gt;\n",
       "YouTube Full Episodes: &lt;a href=\"https://youtube.com/lexfridman\"&gt;https://youtube.com/lexfridman&lt;/a&gt;&lt;br /&gt;\n",
       "YouTube Clips: &lt;a href=\"https://youtube.com/lexclips\"&gt;https://youtube.com/lexclips&lt;/a&gt;&lt;/p&gt;\n",
       "&lt;p&gt;&lt;b&gt;SUPPORT &amp;amp; CONNECT:&lt;/b&gt;&lt;br /&gt;\n",
       "&amp;#8211; Check out the sponsors above, it&amp;#8217;s the best way to support this podcast&lt;br /&gt;\n",
       "&amp;#8211; Support on Patreon: &lt;a href=\"https://www.patreon.com/lexfridman\"&gt;https://www.patreon.com/lexfridman&lt;/a&gt;&lt;br /&gt;\n",
       "&amp;#8211; Twitter: &lt;a href=\"https://twitter.com/lexfridman\"&gt;https://twitter.com/lexfridman&lt;/a&gt;&lt;br /&gt;\n",
       "&amp;#8211; Instagram: &lt;a href=\"https://www.instagram.com/lexfridman\"&gt;https://www.instagram.com/lexfridman&lt;/a&gt;&lt;br /&gt;\n",
       "&amp;#8211; LinkedIn: &lt;a href=\"https://www.linkedin.com/in/lexfridman\"&gt;https://www.linkedin.com/in/lexfridman&lt;/a&gt;&lt;br /&gt;\n",
       "&amp;#8211; Facebook: &lt;a href=\"https://www.facebook.com/lexfridman\"&gt;https://www.facebook.com/lexfridman&lt;/a&gt;&lt;br /&gt;\n",
       "&amp;#8211; Medium: &lt;a href=\"https://medium.com/@lexfridman\"&gt;https://medium.com/@lexfridman&lt;/a&gt;&lt;/p&gt;\n",
       "&lt;p&gt;&lt;b&gt;OUTLINE:&lt;/b&gt;&lt;br /&gt;\n",
       "Here&amp;#8217;s the timestamps for the episode. On some podcast players you should be able to click the timestamp to jump to that time.&lt;br /&gt;\n",
       "(00:00) &amp;#8211; Introduction&lt;br /&gt;\n",
       "(10:49) &amp;#8211; Cancel culture &amp;amp; freedom of speech&lt;br /&gt;\n",
       "(25:21) &amp;#8211; Left-wing vs right-wing cancel culture&lt;br /&gt;\n",
       "(34:06) &amp;#8211; Religion&lt;br /&gt;\n",
       "(36:46) &amp;#8211; College rankings by freedom of speech&lt;br /&gt;\n",
       "(42:54) &amp;#8211; Deplatforming&lt;br /&gt;\n",
       "(57:29) &amp;#8211; Whataboutism&lt;br /&gt;\n",
       "(1:02:32) &amp;#8211; Steelmanning&lt;br /&gt;\n",
       "(1:10:08) &amp;#8211; How the left argues&lt;br /&gt;\n",
       "(1:20:48) &amp;#8211; Diversity, equity, and inclusion&lt;br /&gt;\n",
       "(1:32:39) &amp;#8211; Why colleges lean left&lt;br /&gt;\n",
       "(1:40:17) &amp;#8211; How the right argues&lt;br /&gt;\n",
       "(1:44:52) &amp;#8211; Hate speech&lt;br /&gt;\n",
       "(1:53:39) &amp;#8211; Platforming&lt;br /&gt;\n",
       "(2:03:10) &amp;#8211; Social media&lt;br /&gt;\n",
       "(2:24:17) &amp;#8211; Depression&lt;br /&gt;\n",
       "(2:35:48) &amp;#8211; Hope&lt;/p&gt;\n",
       "</content:encoded>\n",
       "<enclosure length=\"118254839\" type=\"audio/mpeg\" url=\"https://media.blubrry.com/takeituneasy/content.blubrry.com/takeituneasy/lex_ai_greg_lukianoff.mp3\"/>\n",
       "<itunes:subtitle>Greg Lukianoff is a free speech advocate, first-amendment attorney, president of FIRE - Foundation for Individual Rights and Expression, and co-author of The Coddling of the American Mind and a new book The Canceling of the American Mind.</itunes:subtitle>\n",
       "<itunes:summary>Greg Lukianoff is a free speech advocate, first-amendment attorney, president of FIRE - Foundation for Individual Rights and Expression, and co-author of The Coddling of the American Mind and a new book The Canceling of the American Mind. Please support this podcast by checking out our sponsors:&lt;br /&gt;\n",
       "- Policygenius: https://www.policygenius.com/&lt;br /&gt;\n",
       "- Babbel: https://babbel.com/lexpod and use code Lexpod to get 55% off&lt;br /&gt;\n",
       "- BetterHelp: https://betterhelp.com/lex to get 10% off&lt;br /&gt;\n",
       "- InsideTracker: https://insidetracker.com/lex to get 20% off&lt;br /&gt;\n",
       "- ExpressVPN: https://expressvpn.com/lexpod to get 3 months free&lt;br /&gt;\n",
       "&lt;br /&gt;\n",
       "Transcript: https://lexfridman.com/greg-lukianoff-transcript&lt;br /&gt;\n",
       "&lt;br /&gt;\n",
       "EPISODE LINKS:&lt;br /&gt;\n",
       "Greg's Twitter: https://twitter.com/glukianoff&lt;br /&gt;\n",
       "Greg's Instagram: https://instagram.com/glukianoff&lt;br /&gt;\n",
       "FIRE: https://thefire.org/&lt;br /&gt;\n",
       "FIRE on Twitter: https://twitter.com/TheFIREorg&lt;br /&gt;\n",
       "*** Greg's Books ***&lt;br /&gt;\n",
       "The Canceling of the American Mind: https://amzn.to/464yasg&lt;br /&gt;\n",
       "The Coddling of the American Mind: https://amzn.to/3EL48hj&lt;br /&gt;\n",
       "Freedom from Speech: https://amzn.to/3rhrdVN&lt;br /&gt;\n",
       "Unlearning Liberty: https://amzn.to/3rlFnoN&lt;br /&gt;\n",
       "*** Books Mentioned ***&lt;br /&gt;\n",
       "The Closing of the American Mind: https://amzn.to/4638KuX&lt;br /&gt;\n",
       "The Origins of Political Order: https://amzn.to/464zkE8&lt;br /&gt;\n",
       "So You've Been Publicly Shamed: https://amzn.to/48nm1Af&lt;br /&gt;\n",
       "Racial Paranoia: https://amzn.to/3RzyY3U&lt;br /&gt;\n",
       "Why Buddhism Is True: https://amzn.to/3t4R5Vk&lt;br /&gt;\n",
       "Speaking Freely: https://amzn.to/3Zr64oG&lt;br /&gt;\n",
       "&lt;br /&gt;\n",
       "PODCAST INFO:&lt;br /&gt;\n",
       "Podcast website: https://lexfridman.com/podcast&lt;br /&gt;\n",
       "Apple Podcasts: https://apple.co/2lwqZIr&lt;br /&gt;\n",
       "Spotify: https://spoti.fi/2nEwCF8&lt;br /&gt;\n",
       "RSS: https://lexfridman.com/feed/podcast/&lt;br /&gt;\n",
       "YouTube Full Episodes: https://youtube.com/lexfridman&lt;br /&gt;\n",
       "YouTube Clips: https://youtube.com/lexclips&lt;br /&gt;\n",
       "&lt;br /&gt;\n",
       "SUPPORT &amp; CONNECT:&lt;br /&gt;\n",
       "- Check out the sponsors above, it's the best way to support this podcast&lt;br /&gt;\n",
       "- Support on Patreon: https://www.patreon.com/lexfridman&lt;br /&gt;\n",
       "- Twitter: https://twitter.com/lexfridman&lt;br /&gt;\n",
       "- Instagram: https://www.instagram.com/lexfridman&lt;br /&gt;\n",
       "- LinkedIn: https://www.linkedin.com/in/lexfridman&lt;br /&gt;\n",
       "- Facebook: https://www.facebook.com/lexfridman&lt;br /&gt;\n",
       "- Medium: https://medium.com/@lexfridman&lt;br /&gt;\n",
       "&lt;br /&gt;\n",
       "OUTLINE:&lt;br /&gt;\n",
       "Here's the timestamps for the episode. On some podcast players you should be able to click the timestamp to jump to that time.&lt;br /&gt;\n",
       "(00:00) - Introduction&lt;br /&gt;\n",
       "(10:49) - Cancel culture &amp; freedom of speech&lt;br /&gt;\n",
       "(25:21) - Left-wing vs right-wing cancel culture&lt;br /&gt;\n",
       "(34:06) - Religion&lt;br /&gt;\n",
       "(36:46) - College rankings by freedom of speech&lt;br /&gt;\n",
       "(42:54) - Deplatforming&lt;br /&gt;\n",
       "(57:29) - Whataboutism&lt;br /&gt;\n",
       "(1:02:32) - Steelmanning&lt;br /&gt;\n",
       "(1:10:08) - How the left argues&lt;br /&gt;\n",
       "(1:20:48) - Diversity, equity, and inclusion&lt;br /&gt;\n",
       "(1:32:39) - Why colleges lean left&lt;br /&gt;\n",
       "(1:40:17) - How the right argues&lt;br /&gt;\n",
       "(1:44:52) - Hate speech&lt;br /&gt;\n",
       "(1:53:39) - Platforming&lt;br /&gt;\n",
       "(2:03:10) - Social media&lt;br /&gt;\n",
       "(2:24:17) - Depression&lt;br /&gt;\n",
       "(2:35:48) - Hope</itunes:summary>\n",
       "<itunes:author>Lex Fridman</itunes:author>\n",
       "<itunes:image href=\"https://lexfridman.com/wordpress/wp-content/uploads/powerpress/artwork_3000-230.png\"/>\n",
       "<itunes:episodeType>full</itunes:episodeType>\n",
       "<itunes:explicit>false</itunes:explicit>\n",
       "</item>"
      ]
     },
     "execution_count": 9,
     "metadata": {},
     "output_type": "execute_result"
    }
   ],
   "source": [
    "pod_items[1]"
   ]
  },
  {
   "cell_type": "code",
   "execution_count": 8,
   "metadata": {},
   "outputs": [
    {
     "data": {
      "text/plain": [
       "<description>Mark Zuckerberg is CEO of Meta. Please support this podcast by checking out our sponsors:\n",
       "- LMNT: https://drinkLMNT.com/lex to get free sample pack\n",
       "- InsideTracker: https://insidetracker.com/lex to get 20% off\n",
       "- Eight Sleep: https://www.eightsleep.com/lex to get special savings\n",
       "- AG1: https://drinkag1.com/lex to get 1 month supply of fish oil\n",
       "- NetSuite: http://netsuite.com/lex to get free product tour\n",
       "\n",
       "Transcript: https://lexfridman.com/mark-zuckerberg-3-transcript\n",
       "\n",
       "EPISODE LINKS:\n",
       "Mark's Facebook: https://facebook.com/zuck\n",
       "Mark's Instagram: https://instagram.com/zuck\n",
       "Mark's Threads: https://threads.net/@zuck\n",
       "Meta AI: https://ai.meta.com/\n",
       "Meta Quest: https://www.meta.com/quest/\n",
       "Meta Connect 2023: https://www.metaconnect.com\n",
       "\n",
       "PODCAST INFO:\n",
       "Podcast website: https://lexfridman.com/podcast\n",
       "Apple Podcasts: https://apple.co/2lwqZIr\n",
       "Spotify: https://spoti.fi/2nEwCF8\n",
       "RSS: https://lexfridman.com/feed/podcast/\n",
       "YouTube Full Episodes: https://youtube.com/lexfridman\n",
       "YouTube Clips: https://youtube.com/lexclips\n",
       "\n",
       "SUPPORT &amp; CONNECT:\n",
       "- Check out the sponsors above, it's the best way to support this podcast\n",
       "- Support on Patreon: https://www.patreon.com/lexfridman\n",
       "- Twitter: https://twitter.com/lexfridman\n",
       "- Instagram: https://www.instagram.com/lexfridman\n",
       "- LinkedIn: https://www.linkedin.com/in/lexfridman\n",
       "- Facebook: https://www.facebook.com/lexfridman\n",
       "- Medium: https://medium.com/@lexfridman\n",
       "\n",
       "OUTLINE:\n",
       "Here's the timestamps for the episode. On some podcast players you should be able to click the timestamp to jump to that time.\n",
       "(00:00) - Introduction\n",
       "(08:38) - Metaverse\n",
       "(23:01) - Quest 3\n",
       "(37:50) - Nature of reality\n",
       "(42:28) - AI in the Metaverse\n",
       "(59:26) - Large language models\n",
       "(1:05:23) - Future of humanity</description>"
      ]
     },
     "execution_count": 8,
     "metadata": {},
     "output_type": "execute_result"
    }
   ],
   "source": [
    "pod_items[0].find('description')"
   ]
  },
  {
   "cell_type": "markdown",
   "metadata": {},
   "source": [
    "##### *Create a folder to store downloaded **MP3** files.*"
   ]
  },
  {
   "cell_type": "code",
   "execution_count": 9,
   "metadata": {},
   "outputs": [],
   "source": [
    "download_folder = './downloads'\n",
    "os.makedirs(download_folder, exist_ok=True)"
   ]
  },
  {
   "cell_type": "markdown",
   "metadata": {},
   "source": [
    "#### **Adding filters to find and dowload multiple specific podcasts.** "
   ]
  },
  {
   "cell_type": "markdown",
   "metadata": {},
   "source": [
    "##### *Counter for downloaded podcasts.*"
   ]
  },
  {
   "cell_type": "code",
   "execution_count": 10,
   "metadata": {},
   "outputs": [],
   "source": [
    "count = 0"
   ]
  },
  {
   "cell_type": "code",
   "execution_count": 11,
   "metadata": {},
   "outputs": [],
   "source": [
    "start_time = time.time()"
   ]
  },
  {
   "cell_type": "markdown",
   "metadata": {},
   "source": [
    "##### *Loop through podcast items and download MP3 files.*"
   ]
  },
  {
   "cell_type": "code",
   "execution_count": 12,
   "metadata": {},
   "outputs": [
    {
     "name": "stdout",
     "output_type": "stream",
     "text": [
      "Title :  #398 – Mark Zuckerberg: First Interview in the Metaverse\n",
      "MP3 url :  https://media.blubrry.com/takeituneasy/content.blubrry.com/takeituneasy/lex_ai_mark_zuckerberg_3.mp3\n",
      "Downloading ...\n",
      "Download Complete !!\n",
      "\n",
      "\n"
     ]
    }
   ],
   "source": [
    "for pod in pod_items:\n",
    "    if count == 1: \n",
    "        break\n",
    "\n",
    "    title = pod.find('title').text \n",
    "    description = pod.find('description').text\n",
    "    mp3_url = pod.find('enclosure')['url']\n",
    "\n",
    "    # Sanitize the title to remove invalid characters.\n",
    "    sanitized_title = re.sub(r'[\\\\/:*?\"<>|]', '', title)\n",
    "\n",
    "    if re.search(r'zuckerberg', description, re.I) and re.search(r'\\.mp3', mp3_url, re.I):\n",
    "        print(f'Title : ', title)\n",
    "        print(f'MP3 url : ', mp3_url)\n",
    "        print(f'Downloading ...')\n",
    "\n",
    "        try: \n",
    "            redirect_url = requests.get(mp3_url).url\n",
    "            mp3_file = requests.get(redirect_url)\n",
    "\n",
    "            if mp3_file.status_code == 200:\n",
    "                with open(os.path.join(download_folder, f'{sanitized_title}.mp3'), 'wb') as f: \n",
    "                    f.write(mp3_file.content)\n",
    "                \n",
    "                print('Download Complete !!\\n\\n')\n",
    "                count += 1\n",
    "\n",
    "            else: \n",
    "                print(f'Failed to download: {mp3_url} (Status code: {mp3_file.status_code})\\n')\n",
    "\n",
    "\n",
    "        except Exception as e:\n",
    "            print(f'Error downloading: {mp3_url}')\n",
    "            print(e)\n",
    "            print('\\n')"
   ]
  },
  {
   "cell_type": "code",
   "execution_count": 13,
   "metadata": {},
   "outputs": [],
   "source": [
    "end_time = time.time()\n",
    "elapsed_time = end_time - start_time"
   ]
  },
  {
   "cell_type": "code",
   "execution_count": 14,
   "metadata": {},
   "outputs": [
    {
     "name": "stdout",
     "output_type": "stream",
     "text": [
      "Downloaded a total of : 1 MP3 file / files.\n",
      "Total time taken was 57.79 seconds.\n"
     ]
    }
   ],
   "source": [
    "print(f\"Downloaded a total of : {count} MP3 file / files.\")\n",
    "print(f\"Total time taken was {elapsed_time:.2f} seconds.\")"
   ]
  },
  {
   "cell_type": "markdown",
   "metadata": {},
   "source": [
    "#### **Trabscribing Podcasts.**"
   ]
  },
  {
   "cell_type": "code",
   "execution_count": 15,
   "metadata": {},
   "outputs": [],
   "source": [
    "api_key = os.environ['ASSEMBLY_AI_KEY']\n",
    "headers = {'authorization': os.environ['ASSEMBLY_AI_KEY']}"
   ]
  },
  {
   "cell_type": "code",
   "execution_count": 18,
   "metadata": {},
   "outputs": [
    {
     "name": "stdout",
     "output_type": "stream",
     "text": [
      "['#398 – Mark Zuckerberg First Interview in the Metaverse.mp3']\n"
     ]
    }
   ],
   "source": [
    "files = \"./downloads\"\n",
    "file_names = os.listdir(files)\n",
    "\n",
    "print(file_names)"
   ]
  },
  {
   "cell_type": "code",
   "execution_count": 20,
   "metadata": {},
   "outputs": [],
   "source": [
    "def read_file(filename, chunk_size=5242880): \n",
    "    with open(filename, 'rb') as _file:\n",
    "        while True: \n",
    "            data = _file.read(chunk_size)\n",
    "            if not data: \n",
    "                break \n",
    "            yield data "
   ]
  },
  {
   "cell_type": "code",
   "execution_count": 22,
   "metadata": {},
   "outputs": [
    {
     "name": "stdout",
     "output_type": "stream",
     "text": [
      "#398 – Mark Zuckerberg First Interview in the Metaverse.mp3\n",
      "{'upload_url': 'https://cdn.assemblyai.com/upload/285fe7c6-cfb9-4122-9eba-463d55301698'}\n"
     ]
    }
   ],
   "source": [
    "for file in file_names:\n",
    "    file_path = f\"./downloads/{file}\"\n",
    "    print(\"Uploading ...\", file)\n",
    "\n",
    "    response = requests.post('https://api.assemblyai.com/v2/upload', headers=headers, data=read_file(file_path))\n",
    "\n",
    "    print(response.json())\n",
    "    print('Upload Complete !!')"
   ]
  },
  {
   "cell_type": "code",
   "execution_count": null,
   "metadata": {},
   "outputs": [],
   "source": [
    "count=0\n",
    "output_ids = []\n",
    "for url in urls:\n",
    "    print(\"Transcription #\", count)\n",
    "    endpoint = \"https://api.assemblyai.com/v2/transcript\"\n",
    "    \n",
    "    json = {\n",
    "        \"audio_url\": url['upload_url'],\n",
    "        \"audio_start_from\": 300000,\n",
    "        \"audio_end_at\": 600000,\n",
    "    }\n",
    "\n",
    "    headers = {\n",
    "        \"authorization\": os.environ['ASSEMBLY_AI_KEY'],\n",
    "        \"content-type\": \"application/json\"\n",
    "    }\n",
    "    response = requests.post(endpoint, json=json, headers=headers)\n",
    "    print(response)\n",
    "    output_ids.append(response.json()['id'])\n",
    "    count+=1"
   ]
  },
  {
   "cell_type": "code",
   "execution_count": 10,
   "metadata": {},
   "outputs": [
    {
     "name": "stderr",
     "output_type": "stream",
     "text": [
      "'ls' is not recognized as an internal or external command,\n",
      "operable program or batch file.\n"
     ]
    }
   ],
   "source": [
    "!ls"
   ]
  },
  {
   "cell_type": "code",
   "execution_count": 11,
   "metadata": {},
   "outputs": [
    {
     "name": "stdout",
     "output_type": "stream",
     "text": [
      " Volume in drive D is New Volume\n",
      " Volume Serial Number is F4D1-A60B\n",
      "\n",
      " Directory of D:\\code\\Python portfolio\\Pod-Castaway\n",
      "\n",
      "09/10/2023  18:40    <DIR>          .\n",
      "08/10/2023  15:57    <DIR>          ..\n",
      "09/10/2023  18:30    <DIR>          .ipynb_checkpoints\n",
      "07/10/2023  19:47    <DIR>          __pycache__\n",
      "08/10/2023  01:50             2,272 download.py\n",
      "08/10/2023  15:57    <DIR>          downloads\n",
      "09/10/2023  18:40            28,281 extract-transcripts.ipynb\n",
      "07/10/2023  19:47             1,378 podcast.py\n",
      "08/10/2023  14:35             4,477 README.md\n",
      "08/10/2023  11:54            15,708 requirements.txt\n",
      "07/10/2023  19:24                40 runall.sh\n",
      "07/10/2023  17:32    <DIR>          transcripts\n",
      "08/10/2023  01:51             4,578 transcripts.py\n",
      "               7 File(s)         56,734 bytes\n",
      "               6 Dir(s)  112,490,369,024 bytes free\n"
     ]
    }
   ],
   "source": [
    "ls"
   ]
  },
  {
   "cell_type": "code",
   "execution_count": 12,
   "metadata": {},
   "outputs": [
    {
     "name": "stderr",
     "output_type": "stream",
     "text": [
      "'ls' is not recognized as an internal or external command,\n",
      "operable program or batch file.\n"
     ]
    }
   ],
   "source": [
    "!ls"
   ]
  },
  {
   "cell_type": "code",
   "execution_count": 13,
   "metadata": {},
   "outputs": [],
   "source": [
    "import pandas as pd"
   ]
  },
  {
   "cell_type": "code",
   "execution_count": 16,
   "metadata": {},
   "outputs": [
    {
     "data": {
      "text/plain": [
       "<pandas._config.config.DictWrapper at 0x19ba3e4eb80>"
      ]
     },
     "execution_count": 16,
     "metadata": {},
     "output_type": "execute_result"
    }
   ],
   "source": [
    "pd.options"
   ]
  },
  {
   "cell_type": "code",
   "execution_count": 17,
   "metadata": {},
   "outputs": [
    {
     "name": "stdout",
     "output_type": "stream",
     "text": [
      "Collecting jupyternotify\n",
      "  Downloading jupyternotify-0.1.15.tar.gz (7.2 kB)\n",
      "Requirement already satisfied: ipython in c:\\users\\faizan\\anaconda3\\lib\\site-packages (from jupyternotify) (7.29.0)\n",
      "Requirement already satisfied: jupyter in c:\\users\\faizan\\anaconda3\\lib\\site-packages (from jupyternotify) (1.0.0)\n",
      "Requirement already satisfied: setuptools>=18.5 in c:\\users\\faizan\\anaconda3\\lib\\site-packages (from ipython->jupyternotify) (58.0.4)\n",
      "Requirement already satisfied: pickleshare in c:\\users\\faizan\\anaconda3\\lib\\site-packages (from ipython->jupyternotify) (0.7.5)\n",
      "Requirement already satisfied: pygments in c:\\users\\faizan\\anaconda3\\lib\\site-packages (from ipython->jupyternotify) (2.10.0)\n",
      "Requirement already satisfied: backcall in c:\\users\\faizan\\anaconda3\\lib\\site-packages (from ipython->jupyternotify) (0.2.0)\n",
      "Requirement already satisfied: traitlets>=4.2 in c:\\users\\faizan\\anaconda3\\lib\\site-packages (from ipython->jupyternotify) (5.1.0)\n",
      "Requirement already satisfied: colorama in c:\\users\\faizan\\anaconda3\\lib\\site-packages (from ipython->jupyternotify) (0.4.4)\n",
      "Requirement already satisfied: prompt-toolkit!=3.0.0,!=3.0.1,<3.1.0,>=2.0.0 in c:\\users\\faizan\\anaconda3\\lib\\site-packages (from ipython->jupyternotify) (3.0.20)\n",
      "Requirement already satisfied: decorator in c:\\users\\faizan\\anaconda3\\lib\\site-packages (from ipython->jupyternotify) (5.1.0)\n",
      "Requirement already satisfied: matplotlib-inline in c:\\users\\faizan\\anaconda3\\lib\\site-packages (from ipython->jupyternotify) (0.1.2)\n",
      "Requirement already satisfied: jedi>=0.16 in c:\\users\\faizan\\anaconda3\\lib\\site-packages (from ipython->jupyternotify) (0.18.0)\n",
      "Requirement already satisfied: parso<0.9.0,>=0.8.0 in c:\\users\\faizan\\anaconda3\\lib\\site-packages (from jedi>=0.16->ipython->jupyternotify) (0.8.2)\n",
      "Requirement already satisfied: wcwidth in c:\\users\\faizan\\anaconda3\\lib\\site-packages (from prompt-toolkit!=3.0.0,!=3.0.1,<3.1.0,>=2.0.0->ipython->jupyternotify) (0.2.5)\n",
      "Requirement already satisfied: notebook in c:\\users\\faizan\\anaconda3\\lib\\site-packages (from jupyter->jupyternotify) (6.4.5)\n",
      "Requirement already satisfied: jupyter-console in c:\\users\\faizan\\anaconda3\\lib\\site-packages (from jupyter->jupyternotify) (6.4.0)\n",
      "Requirement already satisfied: ipykernel in c:\\users\\faizan\\anaconda3\\lib\\site-packages (from jupyter->jupyternotify) (6.4.1)\n",
      "Requirement already satisfied: qtconsole in c:\\users\\faizan\\anaconda3\\lib\\site-packages (from jupyter->jupyternotify) (5.1.1)\n",
      "Requirement already satisfied: ipywidgets in c:\\users\\faizan\\anaconda3\\lib\\site-packages (from jupyter->jupyternotify) (7.6.5)\n",
      "Requirement already satisfied: nbconvert in c:\\users\\faizan\\anaconda3\\lib\\site-packages (from jupyter->jupyternotify) (6.1.0)\n",
      "Requirement already satisfied: debugpy<2.0,>=1.0.0 in c:\\users\\faizan\\anaconda3\\lib\\site-packages (from ipykernel->jupyter->jupyternotify) (1.4.1)\n",
      "Requirement already satisfied: jupyter-client<8.0 in c:\\users\\faizan\\anaconda3\\lib\\site-packages (from ipykernel->jupyter->jupyternotify) (6.1.12)\n",
      "Requirement already satisfied: ipython-genutils in c:\\users\\faizan\\anaconda3\\lib\\site-packages (from ipykernel->jupyter->jupyternotify) (0.2.0)\n",
      "Requirement already satisfied: tornado<7.0,>=4.2 in c:\\users\\faizan\\anaconda3\\lib\\site-packages (from ipykernel->jupyter->jupyternotify) (6.1)\n",
      "Requirement already satisfied: pyzmq>=13 in c:\\users\\faizan\\anaconda3\\lib\\site-packages (from jupyter-client<8.0->ipykernel->jupyter->jupyternotify) (22.2.1)\n",
      "Requirement already satisfied: python-dateutil>=2.1 in c:\\users\\faizan\\anaconda3\\lib\\site-packages (from jupyter-client<8.0->ipykernel->jupyter->jupyternotify) (2.8.2)\n",
      "Requirement already satisfied: jupyter-core>=4.6.0 in c:\\users\\faizan\\anaconda3\\lib\\site-packages (from jupyter-client<8.0->ipykernel->jupyter->jupyternotify) (4.8.1)\n",
      "Requirement already satisfied: pywin32>=1.0 in c:\\users\\faizan\\anaconda3\\lib\\site-packages (from jupyter-core>=4.6.0->jupyter-client<8.0->ipykernel->jupyter->jupyternotify) (228)\n",
      "Requirement already satisfied: six>=1.5 in c:\\users\\faizan\\anaconda3\\lib\\site-packages (from python-dateutil>=2.1->jupyter-client<8.0->ipykernel->jupyter->jupyternotify) (1.16.0)\n",
      "Requirement already satisfied: jupyterlab-widgets>=1.0.0 in c:\\users\\faizan\\anaconda3\\lib\\site-packages (from ipywidgets->jupyter->jupyternotify) (1.0.0)\n",
      "Requirement already satisfied: widgetsnbextension~=3.5.0 in c:\\users\\faizan\\anaconda3\\lib\\site-packages (from ipywidgets->jupyter->jupyternotify) (3.5.1)\n",
      "Requirement already satisfied: nbformat>=4.2.0 in c:\\users\\faizan\\anaconda3\\lib\\site-packages (from ipywidgets->jupyter->jupyternotify) (5.1.3)\n",
      "Requirement already satisfied: jsonschema!=2.5.0,>=2.4 in c:\\users\\faizan\\anaconda3\\lib\\site-packages (from nbformat>=4.2.0->ipywidgets->jupyter->jupyternotify) (3.2.0)\n",
      "Requirement already satisfied: attrs>=17.4.0 in c:\\users\\faizan\\anaconda3\\lib\\site-packages (from jsonschema!=2.5.0,>=2.4->nbformat>=4.2.0->ipywidgets->jupyter->jupyternotify) (21.2.0)\n",
      "Requirement already satisfied: pyrsistent>=0.14.0 in c:\\users\\faizan\\anaconda3\\lib\\site-packages (from jsonschema!=2.5.0,>=2.4->nbformat>=4.2.0->ipywidgets->jupyter->jupyternotify) (0.18.0)\n",
      "Requirement already satisfied: Send2Trash>=1.5.0 in c:\\users\\faizan\\anaconda3\\lib\\site-packages (from notebook->jupyter->jupyternotify) (1.8.0)\n",
      "Requirement already satisfied: argon2-cffi in c:\\users\\faizan\\anaconda3\\lib\\site-packages (from notebook->jupyter->jupyternotify) (20.1.0)\n",
      "Requirement already satisfied: terminado>=0.8.3 in c:\\users\\faizan\\anaconda3\\lib\\site-packages (from notebook->jupyter->jupyternotify) (0.9.4)\n",
      "Requirement already satisfied: prometheus-client in c:\\users\\faizan\\anaconda3\\lib\\site-packages (from notebook->jupyter->jupyternotify) (0.11.0)\n",
      "Requirement already satisfied: jinja2 in c:\\users\\faizan\\anaconda3\\lib\\site-packages (from notebook->jupyter->jupyternotify) (2.11.3)\n",
      "Requirement already satisfied: pywinpty>=0.5 in c:\\users\\faizan\\anaconda3\\lib\\site-packages (from terminado>=0.8.3->notebook->jupyter->jupyternotify) (0.5.7)\n",
      "Requirement already satisfied: cffi>=1.0.0 in c:\\users\\faizan\\anaconda3\\lib\\site-packages (from argon2-cffi->notebook->jupyter->jupyternotify) (1.14.6)\n",
      "Requirement already satisfied: pycparser in c:\\users\\faizan\\anaconda3\\lib\\site-packages (from cffi>=1.0.0->argon2-cffi->notebook->jupyter->jupyternotify) (2.20)\n",
      "Requirement already satisfied: MarkupSafe>=0.23 in c:\\users\\faizan\\anaconda3\\lib\\site-packages (from jinja2->notebook->jupyter->jupyternotify) (1.1.1)\n",
      "Requirement already satisfied: jupyterlab-pygments in c:\\users\\faizan\\anaconda3\\lib\\site-packages (from nbconvert->jupyter->jupyternotify) (0.1.2)\n",
      "Requirement already satisfied: bleach in c:\\users\\faizan\\anaconda3\\lib\\site-packages (from nbconvert->jupyter->jupyternotify) (4.0.0)\n",
      "Requirement already satisfied: nbclient<0.6.0,>=0.5.0 in c:\\users\\faizan\\anaconda3\\lib\\site-packages (from nbconvert->jupyter->jupyternotify) (0.5.3)\n",
      "Requirement already satisfied: pandocfilters>=1.4.1 in c:\\users\\faizan\\anaconda3\\lib\\site-packages (from nbconvert->jupyter->jupyternotify) (1.4.3)\n",
      "Requirement already satisfied: defusedxml in c:\\users\\faizan\\anaconda3\\lib\\site-packages (from nbconvert->jupyter->jupyternotify) (0.7.1)\n",
      "Requirement already satisfied: mistune<2,>=0.8.1 in c:\\users\\faizan\\anaconda3\\lib\\site-packages (from nbconvert->jupyter->jupyternotify) (0.8.4)\n",
      "Requirement already satisfied: entrypoints>=0.2.2 in c:\\users\\faizan\\anaconda3\\lib\\site-packages (from nbconvert->jupyter->jupyternotify) (0.3)\n",
      "Requirement already satisfied: testpath in c:\\users\\faizan\\anaconda3\\lib\\site-packages (from nbconvert->jupyter->jupyternotify) (0.5.0)\n",
      "Requirement already satisfied: async-generator in c:\\users\\faizan\\anaconda3\\lib\\site-packages (from nbclient<0.6.0,>=0.5.0->nbconvert->jupyter->jupyternotify) (1.10)\n",
      "Requirement already satisfied: nest-asyncio in c:\\users\\faizan\\anaconda3\\lib\\site-packages (from nbclient<0.6.0,>=0.5.0->nbconvert->jupyter->jupyternotify) (1.5.1)\n",
      "Requirement already satisfied: webencodings in c:\\users\\faizan\\anaconda3\\lib\\site-packages (from bleach->nbconvert->jupyter->jupyternotify) (0.5.1)\n",
      "Requirement already satisfied: packaging in c:\\users\\faizan\\anaconda3\\lib\\site-packages (from bleach->nbconvert->jupyter->jupyternotify) (21.0)\n",
      "Requirement already satisfied: pyparsing>=2.0.2 in c:\\users\\faizan\\anaconda3\\lib\\site-packages (from packaging->bleach->nbconvert->jupyter->jupyternotify) (3.0.4)\n",
      "Requirement already satisfied: qtpy in c:\\users\\faizan\\anaconda3\\lib\\site-packages (from qtconsole->jupyter->jupyternotify) (1.10.0)\n",
      "Building wheels for collected packages: jupyternotify\n",
      "  Building wheel for jupyternotify (setup.py): started\n",
      "  Building wheel for jupyternotify (setup.py): finished with status 'done'\n",
      "  Created wheel for jupyternotify: filename=jupyternotify-0.1.15-py3-none-any.whl size=8743 sha256=bb751940bbb5d3102c477227a90108786bff05a47c2202f3d24007d64f6d8a0f\n",
      "  Stored in directory: c:\\users\\faizan\\appdata\\local\\pip\\cache\\wheels\\db\\f4\\43\\06c94fe0f5bacf0029ea8ebb8d080f372b97661740be7b3d74\n",
      "Successfully built jupyternotify\n",
      "Installing collected packages: jupyternotify\n",
      "Successfully installed jupyternotify-0.1.15\n"
     ]
    }
   ],
   "source": [
    "!pip install jupyternotify"
   ]
  },
  {
   "cell_type": "code",
   "execution_count": 20,
   "metadata": {},
   "outputs": [],
   "source": [
    "import time \n",
    "import random"
   ]
  },
  {
   "cell_type": "code",
   "execution_count": 22,
   "metadata": {},
   "outputs": [
    {
     "data": {
      "application/javascript": [
       "if (!(\"Notification\" in window)) {\n",
       "    alert(\"This browser does not support desktop notifications, so the %%notify magic will not work.\");\n",
       "} else if (Notification.permission !== 'granted' && Notification.permission !== 'denied') {\n",
       "    Notification.requestPermission(function (permission) {\n",
       "        if(!('permission' in Notification)) {\n",
       "            Notification.permission = permission;\n",
       "        }\n",
       "    })\n",
       "}\n"
      ],
      "text/plain": [
       "<IPython.core.display.Javascript object>"
      ]
     },
     "metadata": {},
     "output_type": "display_data"
    }
   ],
   "source": [
    "%load_ext jupyternotify"
   ]
  },
  {
   "cell_type": "code",
   "execution_count": null,
   "metadata": {},
   "outputs": [],
   "source": []
  },
  {
   "cell_type": "code",
   "execution_count": null,
   "metadata": {},
   "outputs": [],
   "source": []
  },
  {
   "cell_type": "code",
   "execution_count": 23,
   "metadata": {},
   "outputs": [
    {
     "data": {
      "application/javascript": [
       "$(document).ready(\n",
       "    function() {\n",
       "        function appendUniqueDiv(){\n",
       "            // append a div with our uuid so we can check that it's already\n",
       "            // been sent and avoid duplicates on page reload\n",
       "            var notifiedDiv = document.createElement(\"div\")\n",
       "            notifiedDiv.id = \"65e2d4de-b8f8-421a-ad51-8784046fd925\"\n",
       "            element.append(notifiedDiv)\n",
       "        }\n",
       "\n",
       "        // only send notifications if the pageload is complete; this will\n",
       "        // help stop extra notifications when a saved notebook is loaded,\n",
       "        // which during testing gives us state \"interactive\", not \"complete\"\n",
       "        if (document.readyState === 'complete') {\n",
       "            // check for the div that signifies that the notification\n",
       "            // was already sent\n",
       "            if (document.getElementById(\"65e2d4de-b8f8-421a-ad51-8784046fd925\") === null) {\n",
       "                var notificationPayload = {\"requireInteraction\": false, \"icon\": \"/static/base/images/favicon.ico\", \"body\": \"Cell execution has finished!\"};\n",
       "                if (Notification.permission !== 'denied') {\n",
       "                    if (Notification.permission !== 'granted') { \n",
       "                        Notification.requestPermission(function (permission) {\n",
       "                            if(!('permission' in Notification)) {\n",
       "                                Notification.permission = permission\n",
       "                            }\n",
       "                        })\n",
       "                    }\n",
       "                    if (Notification.permission === 'granted') {\n",
       "                    var notification = new Notification(\"Jupyter Notebook\", notificationPayload)\n",
       "                    appendUniqueDiv()\n",
       "                    notification.onclick = function () {\n",
       "                        window.focus();\n",
       "                        this.close();\n",
       "                        };\n",
       "                    } \n",
       "                }     \n",
       "            }\n",
       "        }\n",
       "    }\n",
       ")\n"
      ],
      "text/plain": [
       "<IPython.core.display.Javascript object>"
      ]
     },
     "metadata": {},
     "output_type": "display_data"
    }
   ],
   "source": [
    "%%notify\n",
    "\n",
    "r = random.randint(10, 15)\n",
    "time.sleep(r)"
   ]
  },
  {
   "cell_type": "code",
   "execution_count": null,
   "metadata": {},
   "outputs": [],
   "source": []
  }
 ],
 "metadata": {
  "kernelspec": {
   "display_name": "Python 3 (ipykernel)",
   "language": "python",
   "name": "python3"
  },
  "language_info": {
   "codemirror_mode": {
    "name": "ipython",
    "version": 3
   },
   "file_extension": ".py",
   "mimetype": "text/x-python",
   "name": "python",
   "nbconvert_exporter": "python",
   "pygments_lexer": "ipython3",
   "version": "3.9.7"
  }
 },
 "nbformat": 4,
 "nbformat_minor": 2
}
