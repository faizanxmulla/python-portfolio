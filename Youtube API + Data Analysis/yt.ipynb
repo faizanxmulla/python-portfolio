{
 "cells": [
  {
   "cell_type": "markdown",
   "metadata": {},
   "source": [
    "#### **Importing Libraries**"
   ]
  },
  {
   "cell_type": "code",
   "execution_count": 1,
   "metadata": {},
   "outputs": [],
   "source": [
    "import os\n",
    "import pandas as pd\n",
    "import seaborn as sns\n",
    "\n",
    "from googleapiclient.discovery import build"
   ]
  },
  {
   "cell_type": "markdown",
   "metadata": {},
   "source": [
    "#### **Setting up YouTube API.**"
   ]
  },
  {
   "cell_type": "code",
   "execution_count": 2,
   "metadata": {},
   "outputs": [],
   "source": [
    "api_service_name = \"youtube\"\n",
    "api_version = \"v3\"\n",
    "\n",
    "yt_api_key = os.environ[\"YT_API_KEY\"]"
   ]
  },
  {
   "cell_type": "markdown",
   "metadata": {},
   "source": [
    "### **I. Scraping Channel Statistics.**"
   ]
  },
  {
   "cell_type": "markdown",
   "metadata": {},
   "source": [
    "#### Getting Channel ID's."
   ]
  },
  {
   "cell_type": "code",
   "execution_count": 3,
   "metadata": {},
   "outputs": [],
   "source": [
    "channel_ids = [\n",
    "    \"UCX6OQ3DkcsbYNE6H8uQQuVA\",\n",
    "    \"UC59ZRYCHev_IqjUhremZ8Tg\",\n",
    "    \"UCvgfXK4nTYKudb0rFR6noLA\",\n",
    "    \"UCc0YbtMkRdhcqwhu3Oad-lw\",\n",
    "]"
   ]
  },
  {
   "cell_type": "markdown",
   "metadata": {},
   "source": [
    "#### Building YouTube API Service."
   ]
  },
  {
   "cell_type": "code",
   "execution_count": 4,
   "metadata": {},
   "outputs": [],
   "source": [
    "youtube = build(api_service_name, api_version, developerKey=yt_api_key)  "
   ]
  },
  {
   "cell_type": "markdown",
   "metadata": {},
   "source": [
    "#### Function to obtain channel statistics."
   ]
  },
  {
   "cell_type": "code",
   "execution_count": 5,
   "metadata": {},
   "outputs": [],
   "source": [
    "def get_channel_statistics(youtube, channel_ids):\n",
    "    data = []\n",
    "\n",
    "    request = youtube.channels().list(\n",
    "        part=\"snippet,contentDetails,statistics\", id=\",\".join(channel_ids)\n",
    "    )\n",
    "\n",
    "    response = request.execute()\n",
    "\n",
    "    for i in range(len(response[\"items\"])):\n",
    "        info = dict(\n",
    "            channel_name=response[\"items\"][i][\"snippet\"][\"title\"],\n",
    "            subscribers=response[\"items\"][i][\"statistics\"][\"subscriberCount\"],\n",
    "            videos=response[\"items\"][i][\"statistics\"][\"videoCount\"],\n",
    "            views=response[\"items\"][i][\"statistics\"][\"viewCount\"],\n",
    "            # --------\n",
    "            playlist_id=response[\"items\"][i][\"contentDetails\"][\"relatedPlaylists\"]['uploads'],\n",
    "        )\n",
    "\n",
    "        data.append(info)\n",
    "\n",
    "    return data"
   ]
  },
  {
   "cell_type": "code",
   "execution_count": 6,
   "metadata": {},
   "outputs": [],
   "source": [
    "channel_statistics = get_channel_statistics(youtube, channel_ids)"
   ]
  },
  {
   "cell_type": "markdown",
   "metadata": {},
   "source": [
    "#### Create a dataframe. "
   ]
  },
  {
   "cell_type": "code",
   "execution_count": 7,
   "metadata": {},
   "outputs": [
    {
     "data": {
      "text/html": [
       "<div>\n",
       "<style scoped>\n",
       "    .dataframe tbody tr th:only-of-type {\n",
       "        vertical-align: middle;\n",
       "    }\n",
       "\n",
       "    .dataframe tbody tr th {\n",
       "        vertical-align: top;\n",
       "    }\n",
       "\n",
       "    .dataframe thead th {\n",
       "        text-align: right;\n",
       "    }\n",
       "</style>\n",
       "<table border=\"1\" class=\"dataframe\">\n",
       "  <thead>\n",
       "    <tr style=\"text-align: right;\">\n",
       "      <th></th>\n",
       "      <th>channel_name</th>\n",
       "      <th>subscribers</th>\n",
       "      <th>videos</th>\n",
       "      <th>views</th>\n",
       "      <th>playlist_id</th>\n",
       "    </tr>\n",
       "  </thead>\n",
       "  <tbody>\n",
       "    <tr>\n",
       "      <th>0</th>\n",
       "      <td>UFC</td>\n",
       "      <td>17500000</td>\n",
       "      <td>15926</td>\n",
       "      <td>7784942599</td>\n",
       "      <td>UUvgfXK4nTYKudb0rFR6noLA</td>\n",
       "    </tr>\n",
       "    <tr>\n",
       "      <th>1</th>\n",
       "      <td>Harry Mack</td>\n",
       "      <td>2640000</td>\n",
       "      <td>498</td>\n",
       "      <td>231600882</td>\n",
       "      <td>UU59ZRYCHev_IqjUhremZ8Tg</td>\n",
       "    </tr>\n",
       "    <tr>\n",
       "      <th>2</th>\n",
       "      <td>Breaking Bad &amp; Better Call Saul</td>\n",
       "      <td>746000</td>\n",
       "      <td>773</td>\n",
       "      <td>593154876</td>\n",
       "      <td>UUc0YbtMkRdhcqwhu3Oad-lw</td>\n",
       "    </tr>\n",
       "    <tr>\n",
       "      <th>3</th>\n",
       "      <td>MrBeast</td>\n",
       "      <td>233000000</td>\n",
       "      <td>774</td>\n",
       "      <td>41694966373</td>\n",
       "      <td>UUX6OQ3DkcsbYNE6H8uQQuVA</td>\n",
       "    </tr>\n",
       "  </tbody>\n",
       "</table>\n",
       "</div>"
      ],
      "text/plain": [
       "                      channel_name subscribers videos        views  \\\n",
       "0                              UFC    17500000  15926   7784942599   \n",
       "1                       Harry Mack     2640000    498    231600882   \n",
       "2  Breaking Bad & Better Call Saul      746000    773    593154876   \n",
       "3                          MrBeast   233000000    774  41694966373   \n",
       "\n",
       "                playlist_id  \n",
       "0  UUvgfXK4nTYKudb0rFR6noLA  \n",
       "1  UU59ZRYCHev_IqjUhremZ8Tg  \n",
       "2  UUc0YbtMkRdhcqwhu3Oad-lw  \n",
       "3  UUX6OQ3DkcsbYNE6H8uQQuVA  "
      ]
     },
     "execution_count": 7,
     "metadata": {},
     "output_type": "execute_result"
    }
   ],
   "source": [
    "channel_df = pd.DataFrame(channel_statistics)\n",
    "channel_df"
   ]
  },
  {
   "cell_type": "markdown",
   "metadata": {},
   "source": [
    "#### Change datatype from object to integer."
   ]
  },
  {
   "cell_type": "code",
   "execution_count": 8,
   "metadata": {},
   "outputs": [
    {
     "data": {
      "text/plain": [
       "channel_name    object\n",
       "subscribers     object\n",
       "videos          object\n",
       "views           object\n",
       "playlist_id     object\n",
       "dtype: object"
      ]
     },
     "execution_count": 8,
     "metadata": {},
     "output_type": "execute_result"
    }
   ],
   "source": [
    "channel_df.dtypes"
   ]
  },
  {
   "cell_type": "code",
   "execution_count": 9,
   "metadata": {},
   "outputs": [],
   "source": [
    "exclude_cols = ['channel_name']\n",
    "\n",
    "cols_to_include = [col for col in channel_df.columns if col not in exclude_cols]"
   ]
  },
  {
   "cell_type": "code",
   "execution_count": 10,
   "metadata": {},
   "outputs": [],
   "source": [
    "channel_df[cols_to_include] = channel_df[cols_to_include].applymap(pd.to_numeric, errors='coerce')"
   ]
  },
  {
   "cell_type": "code",
   "execution_count": 11,
   "metadata": {},
   "outputs": [
    {
     "data": {
      "text/plain": [
       "channel_name     object\n",
       "subscribers       int64\n",
       "videos            int64\n",
       "views             int64\n",
       "playlist_id     float64\n",
       "dtype: object"
      ]
     },
     "execution_count": 11,
     "metadata": {},
     "output_type": "execute_result"
    }
   ],
   "source": [
    "channel_df.dtypes"
   ]
  },
  {
   "cell_type": "markdown",
   "metadata": {},
   "source": [
    "### **II. Scraping Video Details.**"
   ]
  },
  {
   "cell_type": "markdown",
   "metadata": {},
   "source": [
    "#### Function to get video ID's."
   ]
  },
  {
   "cell_type": "code",
   "execution_count": 12,
   "metadata": {},
   "outputs": [],
   "source": [
    "def get_video_ids(youtube, playlist_id):\n",
    "    video_ids = []\n",
    "\n",
    "    request = youtube.playlistItems().list(\n",
    "        part=\"contentDetails\", playlistId=playlist_id, maxResults=50\n",
    "    )\n",
    "\n",
    "    response = request.execute()\n",
    "\n",
    "    for i in range(len(response['items'])):\n",
    "        video_ids.append(response['items'][i]['contentDetails']['videoId'])\n",
    "\n",
    "    next_page_token = response.get(\"nextPageToken\")\n",
    "\n",
    "    while next_page_token is not None:\n",
    "        request = youtube.playlistItems().list(\n",
    "            part=\"contentDetails\",\n",
    "            playlistId=playlist_id,\n",
    "            maxResults=50,\n",
    "            pageToken=next_page_token,\n",
    "        )\n",
    "\n",
    "        response = request.execute()\n",
    "\n",
    "        for i in range(len(response['items'])):\n",
    "            video_ids.append(response['items'][i]['contentDetails']['videoId'])\n",
    "\n",
    "        next_page_token = response.get(\"nextPageToken\")\n",
    "\n",
    "    return video_ids"
   ]
  },
  {
   "cell_type": "code",
   "execution_count": 13,
   "metadata": {},
   "outputs": [],
   "source": [
    "# Breaking Bad & Better call Saul.\n",
    "playlist_id = \"UUc0YbtMkRdhcqwhu3Oad-lw\""
   ]
  },
  {
   "cell_type": "code",
   "execution_count": 14,
   "metadata": {},
   "outputs": [],
   "source": [
    "video_ids = get_video_ids(youtube, playlist_id)"
   ]
  },
  {
   "cell_type": "code",
   "execution_count": 15,
   "metadata": {},
   "outputs": [
    {
     "data": {
      "text/plain": [
       "774"
      ]
     },
     "execution_count": 15,
     "metadata": {},
     "output_type": "execute_result"
    }
   ],
   "source": [
    "len(video_ids)"
   ]
  },
  {
   "cell_type": "markdown",
   "metadata": {},
   "source": [
    "#### Function to get video details."
   ]
  },
  {
   "cell_type": "code",
   "execution_count": 16,
   "metadata": {},
   "outputs": [],
   "source": [
    "def get_video_details(youtube, video_ids):\n",
    "    all_video_info = []\n",
    "\n",
    "    for i in range(0, len(video_ids), 50):\n",
    "        request = youtube.videos().list(\n",
    "            part=\"snippet,contentDetails,statistics\", \n",
    "            id=\",\".join(video_ids[i : i + 50])\n",
    "        )\n",
    "\n",
    "        response = request.execute()\n",
    "\n",
    "        for video in response[\"items\"]:\n",
    "            stats_to_keep = {\n",
    "                \"snippet\": [\n",
    "                    \"channelTitle\",\n",
    "                    \"title\",\n",
    "                    \"description\",\n",
    "                    \"tags\",\n",
    "                    \"publishedAt\",\n",
    "                ],\n",
    "\n",
    "                \"statistics\": [\n",
    "                    \"viewCount\",\n",
    "                    \"likeCount\",\n",
    "                    \"favouriteCount\",\n",
    "                    \"commentCount\",\n",
    "                ],\n",
    "\n",
    "                \"contentDetails\": [\n",
    "                    \"duration\", \n",
    "                    \"definition\", \n",
    "                    \"caption\"],\n",
    "            }\n",
    "\n",
    "            video_info = {}\n",
    "            video_info[\"video_id\"] = video[\"id\"]\n",
    "\n",
    "\n",
    "            for k in stats_to_keep.keys():\n",
    "                for v in stats_to_keep[k]:\n",
    "                    try:\n",
    "                        video_info[v] = video[k][v]\n",
    "                    except:\n",
    "                        video_info[v] = None\n",
    "\n",
    "            all_video_info.append(video_info)\n",
    "\n",
    "\n",
    "    return pd.DataFrame(all_video_info)"
   ]
  },
  {
   "cell_type": "code",
   "execution_count": 17,
   "metadata": {},
   "outputs": [],
   "source": [
    "video_details = get_video_details(youtube, video_ids)"
   ]
  },
  {
   "cell_type": "code",
   "execution_count": 18,
   "metadata": {},
   "outputs": [
    {
     "data": {
      "text/plain": [
       "video_id          object\n",
       "channelTitle      object\n",
       "title             object\n",
       "description       object\n",
       "tags              object\n",
       "publishedAt       object\n",
       "viewCount         object\n",
       "likeCount         object\n",
       "favouriteCount    object\n",
       "commentCount      object\n",
       "duration          object\n",
       "definition        object\n",
       "caption           object\n",
       "dtype: object"
      ]
     },
     "execution_count": 18,
     "metadata": {},
     "output_type": "execute_result"
    }
   ],
   "source": [
    "video_details.dtypes"
   ]
  },
  {
   "cell_type": "code",
   "execution_count": 19,
   "metadata": {},
   "outputs": [],
   "source": [
    "video_details[\"viewCount\"] = video_details[\"viewCount\"].apply(pd.to_numeric, errors=\"coerce\")"
   ]
  },
  {
   "cell_type": "markdown",
   "metadata": {},
   "source": [
    "Getting the top 8 videos by view count."
   ]
  },
  {
   "cell_type": "code",
   "execution_count": 20,
   "metadata": {},
   "outputs": [
    {
     "data": {
      "text/html": [
       "<div>\n",
       "<style scoped>\n",
       "    .dataframe tbody tr th:only-of-type {\n",
       "        vertical-align: middle;\n",
       "    }\n",
       "\n",
       "    .dataframe tbody tr th {\n",
       "        vertical-align: top;\n",
       "    }\n",
       "\n",
       "    .dataframe thead th {\n",
       "        text-align: right;\n",
       "    }\n",
       "</style>\n",
       "<table border=\"1\" class=\"dataframe\">\n",
       "  <thead>\n",
       "    <tr style=\"text-align: right;\">\n",
       "      <th></th>\n",
       "      <th>video_id</th>\n",
       "      <th>channelTitle</th>\n",
       "      <th>title</th>\n",
       "      <th>description</th>\n",
       "      <th>tags</th>\n",
       "      <th>publishedAt</th>\n",
       "      <th>viewCount</th>\n",
       "      <th>likeCount</th>\n",
       "      <th>favouriteCount</th>\n",
       "      <th>commentCount</th>\n",
       "      <th>duration</th>\n",
       "      <th>definition</th>\n",
       "      <th>caption</th>\n",
       "    </tr>\n",
       "  </thead>\n",
       "  <tbody>\n",
       "    <tr>\n",
       "      <th>542</th>\n",
       "      <td>MybaTnzu9AA</td>\n",
       "      <td>Breaking Bad &amp; Better Call Saul</td>\n",
       "      <td>The Death Of Gustavo Fring | Face Off | Breaki...</td>\n",
       "      <td>After their plan to kill Gus fails, Walt (Brya...</td>\n",
       "      <td>[Breaking Bad, Walter White, Bryan Cranston, N...</td>\n",
       "      <td>2019-07-08T14:57:13Z</td>\n",
       "      <td>21820541</td>\n",
       "      <td>362645</td>\n",
       "      <td>None</td>\n",
       "      <td>18503</td>\n",
       "      <td>PT2M48S</td>\n",
       "      <td>hd</td>\n",
       "      <td>false</td>\n",
       "    </tr>\n",
       "    <tr>\n",
       "      <th>303</th>\n",
       "      <td>74qGp120JK8</td>\n",
       "      <td>Breaking Bad &amp; Better Call Saul</td>\n",
       "      <td>When You Make Yourself At Home... | #Shorts | ...</td>\n",
       "      <td>Watch Now!: https://play.google.com/store/tv/s...</td>\n",
       "      <td>[Breaking Bad, Walter White, Bryan Cranston, A...</td>\n",
       "      <td>2022-05-23T15:30:04Z</td>\n",
       "      <td>18931740</td>\n",
       "      <td>725463</td>\n",
       "      <td>None</td>\n",
       "      <td>2588</td>\n",
       "      <td>PT55S</td>\n",
       "      <td>hd</td>\n",
       "      <td>false</td>\n",
       "    </tr>\n",
       "    <tr>\n",
       "      <th>238</th>\n",
       "      <td>XQQI72wQjEA</td>\n",
       "      <td>Breaking Bad &amp; Better Call Saul</td>\n",
       "      <td>Every Time Mike Outsmarted His Enemies | Break...</td>\n",
       "      <td>They always think they can get him...\\n\\nWatch...</td>\n",
       "      <td>[Breaking Bad, Walter White, Bryan Cranston, A...</td>\n",
       "      <td>2022-09-27T15:00:32Z</td>\n",
       "      <td>11230934</td>\n",
       "      <td>113317</td>\n",
       "      <td>None</td>\n",
       "      <td>3680</td>\n",
       "      <td>PT20M31S</td>\n",
       "      <td>hd</td>\n",
       "      <td>false</td>\n",
       "    </tr>\n",
       "    <tr>\n",
       "      <th>332</th>\n",
       "      <td>9TohDsmT8tA</td>\n",
       "      <td>Breaking Bad &amp; Better Call Saul</td>\n",
       "      <td>Walter White Kills Mike Ehrmantraut | Say My N...</td>\n",
       "      <td>Walter White and Mike Ehrmantraut meet up and ...</td>\n",
       "      <td>[Breaking Bad, Walter White, Bryan Cranston, A...</td>\n",
       "      <td>2022-03-01T16:30:02Z</td>\n",
       "      <td>10364122</td>\n",
       "      <td>129583</td>\n",
       "      <td>None</td>\n",
       "      <td>11366</td>\n",
       "      <td>PT5M19S</td>\n",
       "      <td>hd</td>\n",
       "      <td>false</td>\n",
       "    </tr>\n",
       "    <tr>\n",
       "      <th>341</th>\n",
       "      <td>N723si1wAG8</td>\n",
       "      <td>Breaking Bad &amp; Better Call Saul</td>\n",
       "      <td>\"Come On, Take My Gun From Me\" | Pimento | Bet...</td>\n",
       "      <td>Sobchak mocks Mike for not carrying a gun for ...</td>\n",
       "      <td>[Breaking Bad, Walter White, Bryan Cranston, A...</td>\n",
       "      <td>2022-02-01T16:30:06Z</td>\n",
       "      <td>10000894</td>\n",
       "      <td>118231</td>\n",
       "      <td>None</td>\n",
       "      <td>7257</td>\n",
       "      <td>PT4M12S</td>\n",
       "      <td>hd</td>\n",
       "      <td>false</td>\n",
       "    </tr>\n",
       "    <tr>\n",
       "      <th>558</th>\n",
       "      <td>4kyxZI1UCKM</td>\n",
       "      <td>Breaking Bad &amp; Better Call Saul</td>\n",
       "      <td>\"You're Lucky He Hasn't Fired Your Ass\" | Salu...</td>\n",
       "      <td>As Walt (Bryan Cranston) is recovering from th...</td>\n",
       "      <td>[Breaking Bad, Walter White, Bryan Cranston, N...</td>\n",
       "      <td>2019-04-25T18:56:38Z</td>\n",
       "      <td>9604803</td>\n",
       "      <td>146976</td>\n",
       "      <td>None</td>\n",
       "      <td>6662</td>\n",
       "      <td>PT3M3S</td>\n",
       "      <td>hd</td>\n",
       "      <td>false</td>\n",
       "    </tr>\n",
       "    <tr>\n",
       "      <th>565</th>\n",
       "      <td>ZeVWpQUfmag</td>\n",
       "      <td>Breaking Bad &amp; Better Call Saul</td>\n",
       "      <td>Gus' Close Encounter With Hector &amp; Don Eladio ...</td>\n",
       "      <td>As Hank (Dean Norris) produces evidence that G...</td>\n",
       "      <td>[Breaking Bad, Walter White, Bryan Cranston, N...</td>\n",
       "      <td>2019-04-06T19:00:19Z</td>\n",
       "      <td>8838825</td>\n",
       "      <td>87759</td>\n",
       "      <td>None</td>\n",
       "      <td>8829</td>\n",
       "      <td>PT2M54S</td>\n",
       "      <td>hd</td>\n",
       "      <td>false</td>\n",
       "    </tr>\n",
       "    <tr>\n",
       "      <th>652</th>\n",
       "      <td>rArzMrhTxF8</td>\n",
       "      <td>Breaking Bad &amp; Better Call Saul</td>\n",
       "      <td>Saul Gets The Better Of Jesse's Parents | I.F....</td>\n",
       "      <td>As he finds Skyler is dead set on getting a di...</td>\n",
       "      <td>[Breaking Bad, Walter White, Bryan Cranston, N...</td>\n",
       "      <td>2018-08-13T21:44:41Z</td>\n",
       "      <td>8789096</td>\n",
       "      <td>114066</td>\n",
       "      <td>None</td>\n",
       "      <td>6885</td>\n",
       "      <td>PT3M1S</td>\n",
       "      <td>hd</td>\n",
       "      <td>false</td>\n",
       "    </tr>\n",
       "  </tbody>\n",
       "</table>\n",
       "</div>"
      ],
      "text/plain": [
       "        video_id                     channelTitle  \\\n",
       "542  MybaTnzu9AA  Breaking Bad & Better Call Saul   \n",
       "303  74qGp120JK8  Breaking Bad & Better Call Saul   \n",
       "238  XQQI72wQjEA  Breaking Bad & Better Call Saul   \n",
       "332  9TohDsmT8tA  Breaking Bad & Better Call Saul   \n",
       "341  N723si1wAG8  Breaking Bad & Better Call Saul   \n",
       "558  4kyxZI1UCKM  Breaking Bad & Better Call Saul   \n",
       "565  ZeVWpQUfmag  Breaking Bad & Better Call Saul   \n",
       "652  rArzMrhTxF8  Breaking Bad & Better Call Saul   \n",
       "\n",
       "                                                 title  \\\n",
       "542  The Death Of Gustavo Fring | Face Off | Breaki...   \n",
       "303  When You Make Yourself At Home... | #Shorts | ...   \n",
       "238  Every Time Mike Outsmarted His Enemies | Break...   \n",
       "332  Walter White Kills Mike Ehrmantraut | Say My N...   \n",
       "341  \"Come On, Take My Gun From Me\" | Pimento | Bet...   \n",
       "558  \"You're Lucky He Hasn't Fired Your Ass\" | Salu...   \n",
       "565  Gus' Close Encounter With Hector & Don Eladio ...   \n",
       "652  Saul Gets The Better Of Jesse's Parents | I.F....   \n",
       "\n",
       "                                           description  \\\n",
       "542  After their plan to kill Gus fails, Walt (Brya...   \n",
       "303  Watch Now!: https://play.google.com/store/tv/s...   \n",
       "238  They always think they can get him...\\n\\nWatch...   \n",
       "332  Walter White and Mike Ehrmantraut meet up and ...   \n",
       "341  Sobchak mocks Mike for not carrying a gun for ...   \n",
       "558  As Walt (Bryan Cranston) is recovering from th...   \n",
       "565  As Hank (Dean Norris) produces evidence that G...   \n",
       "652  As he finds Skyler is dead set on getting a di...   \n",
       "\n",
       "                                                  tags           publishedAt  \\\n",
       "542  [Breaking Bad, Walter White, Bryan Cranston, N...  2019-07-08T14:57:13Z   \n",
       "303  [Breaking Bad, Walter White, Bryan Cranston, A...  2022-05-23T15:30:04Z   \n",
       "238  [Breaking Bad, Walter White, Bryan Cranston, A...  2022-09-27T15:00:32Z   \n",
       "332  [Breaking Bad, Walter White, Bryan Cranston, A...  2022-03-01T16:30:02Z   \n",
       "341  [Breaking Bad, Walter White, Bryan Cranston, A...  2022-02-01T16:30:06Z   \n",
       "558  [Breaking Bad, Walter White, Bryan Cranston, N...  2019-04-25T18:56:38Z   \n",
       "565  [Breaking Bad, Walter White, Bryan Cranston, N...  2019-04-06T19:00:19Z   \n",
       "652  [Breaking Bad, Walter White, Bryan Cranston, N...  2018-08-13T21:44:41Z   \n",
       "\n",
       "     viewCount likeCount favouriteCount commentCount  duration definition  \\\n",
       "542   21820541    362645           None        18503   PT2M48S         hd   \n",
       "303   18931740    725463           None         2588     PT55S         hd   \n",
       "238   11230934    113317           None         3680  PT20M31S         hd   \n",
       "332   10364122    129583           None        11366   PT5M19S         hd   \n",
       "341   10000894    118231           None         7257   PT4M12S         hd   \n",
       "558    9604803    146976           None         6662    PT3M3S         hd   \n",
       "565    8838825     87759           None         8829   PT2M54S         hd   \n",
       "652    8789096    114066           None         6885    PT3M1S         hd   \n",
       "\n",
       "    caption  \n",
       "542   false  \n",
       "303   false  \n",
       "238   false  \n",
       "332   false  \n",
       "341   false  \n",
       "558   false  \n",
       "565   false  \n",
       "652   false  "
      ]
     },
     "execution_count": 20,
     "metadata": {},
     "output_type": "execute_result"
    }
   ],
   "source": [
    "video_details.sort_values(by=\"viewCount\", ascending=False).head(8)"
   ]
  },
  {
   "attachments": {
    "download.jpg": {
     "image/jpeg": "[encoded data removed]"
    }
   },
   "cell_type": "markdown",
   "metadata": {},
   "source": [
    "![download.jpg](attachment:download.jpg)"
   ]
  }
 ],
 "metadata": {
  "kernelspec": {
   "display_name": "base",
   "language": "python",
   "name": "python3"
  },
  "language_info": {
   "codemirror_mode": {
    "name": "ipython",
    "version": 3
   },
   "file_extension": ".py",
   "mimetype": "text/x-python",
   "name": "python",
   "nbconvert_exporter": "python",
   "pygments_lexer": "ipython3",
   "version": "3.9.7"
  }
 },
 "nbformat": 4,
 "nbformat_minor": 2
}
